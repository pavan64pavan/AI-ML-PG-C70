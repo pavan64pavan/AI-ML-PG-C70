{
 "cells": [
  {
   "cell_type": "markdown",
   "metadata": {},
   "source": [
    "# Lending Club Case Study"
   ]
  },
  {
   "cell_type": "markdown",
   "metadata": {},
   "source": [
    "## Load & Understand The Data"
   ]
  },
  {
   "cell_type": "code",
   "execution_count": 2,
   "metadata": {},
   "outputs": [],
   "source": [
    "# Import All the Required libraries\n",
    "import pandas as pd\n",
    "import matplotlib.pyplot as plt\n",
    "import seaborn as sns \n",
    "import numpy as np \n",
    "import warnings"
   ]
  },
  {
   "cell_type": "code",
   "execution_count": 3,
   "metadata": {},
   "outputs": [],
   "source": [
    "# Filter Warnings\n",
    "warnings.filterwarnings(action='ignore')"
   ]
  },
  {
   "cell_type": "code",
   "execution_count": 4,
   "metadata": {},
   "outputs": [],
   "source": [
    "# Load the data into a Dataframe & perform basic data checks\n",
    "loanData = pd.read_csv(\"loan.csv\")"
   ]
  },
  {
   "cell_type": "code",
   "execution_count": 5,
   "metadata": {},
   "outputs": [
    {
     "data": {
      "text/plain": [
       "(39717, 111)"
      ]
     },
     "execution_count": 5,
     "metadata": {},
     "output_type": "execute_result"
    }
   ],
   "source": [
    "loanData.shape"
   ]
  },
  {
   "cell_type": "code",
   "execution_count": 6,
   "metadata": {},
   "outputs": [
    {
     "data": {
      "text/html": [
       "<div>\n",
       "<style scoped>\n",
       "    .dataframe tbody tr th:only-of-type {\n",
       "        vertical-align: middle;\n",
       "    }\n",
       "\n",
       "    .dataframe tbody tr th {\n",
       "        vertical-align: top;\n",
       "    }\n",
       "\n",
       "    .dataframe thead th {\n",
       "        text-align: right;\n",
       "    }\n",
       "</style>\n",
       "<table border=\"1\" class=\"dataframe\">\n",
       "  <thead>\n",
       "    <tr style=\"text-align: right;\">\n",
       "      <th></th>\n",
       "      <th>id</th>\n",
       "      <th>member_id</th>\n",
       "      <th>loan_amnt</th>\n",
       "      <th>funded_amnt</th>\n",
       "      <th>funded_amnt_inv</th>\n",
       "      <th>term</th>\n",
       "      <th>int_rate</th>\n",
       "      <th>installment</th>\n",
       "      <th>grade</th>\n",
       "      <th>sub_grade</th>\n",
       "      <th>...</th>\n",
       "      <th>num_tl_90g_dpd_24m</th>\n",
       "      <th>num_tl_op_past_12m</th>\n",
       "      <th>pct_tl_nvr_dlq</th>\n",
       "      <th>percent_bc_gt_75</th>\n",
       "      <th>pub_rec_bankruptcies</th>\n",
       "      <th>tax_liens</th>\n",
       "      <th>tot_hi_cred_lim</th>\n",
       "      <th>total_bal_ex_mort</th>\n",
       "      <th>total_bc_limit</th>\n",
       "      <th>total_il_high_credit_limit</th>\n",
       "    </tr>\n",
       "  </thead>\n",
       "  <tbody>\n",
       "    <tr>\n",
       "      <th>0</th>\n",
       "      <td>1077501</td>\n",
       "      <td>1296599</td>\n",
       "      <td>5000</td>\n",
       "      <td>5000</td>\n",
       "      <td>4975.0</td>\n",
       "      <td>36 months</td>\n",
       "      <td>10.65%</td>\n",
       "      <td>162.87</td>\n",
       "      <td>B</td>\n",
       "      <td>B2</td>\n",
       "      <td>...</td>\n",
       "      <td>NaN</td>\n",
       "      <td>NaN</td>\n",
       "      <td>NaN</td>\n",
       "      <td>NaN</td>\n",
       "      <td>0.0</td>\n",
       "      <td>0.0</td>\n",
       "      <td>NaN</td>\n",
       "      <td>NaN</td>\n",
       "      <td>NaN</td>\n",
       "      <td>NaN</td>\n",
       "    </tr>\n",
       "    <tr>\n",
       "      <th>1</th>\n",
       "      <td>1077430</td>\n",
       "      <td>1314167</td>\n",
       "      <td>2500</td>\n",
       "      <td>2500</td>\n",
       "      <td>2500.0</td>\n",
       "      <td>60 months</td>\n",
       "      <td>15.27%</td>\n",
       "      <td>59.83</td>\n",
       "      <td>C</td>\n",
       "      <td>C4</td>\n",
       "      <td>...</td>\n",
       "      <td>NaN</td>\n",
       "      <td>NaN</td>\n",
       "      <td>NaN</td>\n",
       "      <td>NaN</td>\n",
       "      <td>0.0</td>\n",
       "      <td>0.0</td>\n",
       "      <td>NaN</td>\n",
       "      <td>NaN</td>\n",
       "      <td>NaN</td>\n",
       "      <td>NaN</td>\n",
       "    </tr>\n",
       "    <tr>\n",
       "      <th>2</th>\n",
       "      <td>1077175</td>\n",
       "      <td>1313524</td>\n",
       "      <td>2400</td>\n",
       "      <td>2400</td>\n",
       "      <td>2400.0</td>\n",
       "      <td>36 months</td>\n",
       "      <td>15.96%</td>\n",
       "      <td>84.33</td>\n",
       "      <td>C</td>\n",
       "      <td>C5</td>\n",
       "      <td>...</td>\n",
       "      <td>NaN</td>\n",
       "      <td>NaN</td>\n",
       "      <td>NaN</td>\n",
       "      <td>NaN</td>\n",
       "      <td>0.0</td>\n",
       "      <td>0.0</td>\n",
       "      <td>NaN</td>\n",
       "      <td>NaN</td>\n",
       "      <td>NaN</td>\n",
       "      <td>NaN</td>\n",
       "    </tr>\n",
       "    <tr>\n",
       "      <th>3</th>\n",
       "      <td>1076863</td>\n",
       "      <td>1277178</td>\n",
       "      <td>10000</td>\n",
       "      <td>10000</td>\n",
       "      <td>10000.0</td>\n",
       "      <td>36 months</td>\n",
       "      <td>13.49%</td>\n",
       "      <td>339.31</td>\n",
       "      <td>C</td>\n",
       "      <td>C1</td>\n",
       "      <td>...</td>\n",
       "      <td>NaN</td>\n",
       "      <td>NaN</td>\n",
       "      <td>NaN</td>\n",
       "      <td>NaN</td>\n",
       "      <td>0.0</td>\n",
       "      <td>0.0</td>\n",
       "      <td>NaN</td>\n",
       "      <td>NaN</td>\n",
       "      <td>NaN</td>\n",
       "      <td>NaN</td>\n",
       "    </tr>\n",
       "    <tr>\n",
       "      <th>4</th>\n",
       "      <td>1075358</td>\n",
       "      <td>1311748</td>\n",
       "      <td>3000</td>\n",
       "      <td>3000</td>\n",
       "      <td>3000.0</td>\n",
       "      <td>60 months</td>\n",
       "      <td>12.69%</td>\n",
       "      <td>67.79</td>\n",
       "      <td>B</td>\n",
       "      <td>B5</td>\n",
       "      <td>...</td>\n",
       "      <td>NaN</td>\n",
       "      <td>NaN</td>\n",
       "      <td>NaN</td>\n",
       "      <td>NaN</td>\n",
       "      <td>0.0</td>\n",
       "      <td>0.0</td>\n",
       "      <td>NaN</td>\n",
       "      <td>NaN</td>\n",
       "      <td>NaN</td>\n",
       "      <td>NaN</td>\n",
       "    </tr>\n",
       "  </tbody>\n",
       "</table>\n",
       "<p>5 rows × 111 columns</p>\n",
       "</div>"
      ],
      "text/plain": [
       "        id  member_id  loan_amnt  funded_amnt  funded_amnt_inv        term  \\\n",
       "0  1077501    1296599       5000         5000           4975.0   36 months   \n",
       "1  1077430    1314167       2500         2500           2500.0   60 months   \n",
       "2  1077175    1313524       2400         2400           2400.0   36 months   \n",
       "3  1076863    1277178      10000        10000          10000.0   36 months   \n",
       "4  1075358    1311748       3000         3000           3000.0   60 months   \n",
       "\n",
       "  int_rate  installment grade sub_grade  ... num_tl_90g_dpd_24m  \\\n",
       "0   10.65%       162.87     B        B2  ...                NaN   \n",
       "1   15.27%        59.83     C        C4  ...                NaN   \n",
       "2   15.96%        84.33     C        C5  ...                NaN   \n",
       "3   13.49%       339.31     C        C1  ...                NaN   \n",
       "4   12.69%        67.79     B        B5  ...                NaN   \n",
       "\n",
       "  num_tl_op_past_12m pct_tl_nvr_dlq  percent_bc_gt_75 pub_rec_bankruptcies  \\\n",
       "0                NaN            NaN               NaN                  0.0   \n",
       "1                NaN            NaN               NaN                  0.0   \n",
       "2                NaN            NaN               NaN                  0.0   \n",
       "3                NaN            NaN               NaN                  0.0   \n",
       "4                NaN            NaN               NaN                  0.0   \n",
       "\n",
       "  tax_liens tot_hi_cred_lim total_bal_ex_mort total_bc_limit  \\\n",
       "0       0.0             NaN               NaN            NaN   \n",
       "1       0.0             NaN               NaN            NaN   \n",
       "2       0.0             NaN               NaN            NaN   \n",
       "3       0.0             NaN               NaN            NaN   \n",
       "4       0.0             NaN               NaN            NaN   \n",
       "\n",
       "  total_il_high_credit_limit  \n",
       "0                        NaN  \n",
       "1                        NaN  \n",
       "2                        NaN  \n",
       "3                        NaN  \n",
       "4                        NaN  \n",
       "\n",
       "[5 rows x 111 columns]"
      ]
     },
     "execution_count": 6,
     "metadata": {},
     "output_type": "execute_result"
    }
   ],
   "source": [
    "loanData.head(5)"
   ]
  },
  {
   "cell_type": "code",
   "execution_count": 7,
   "metadata": {},
   "outputs": [
    {
     "name": "stdout",
     "output_type": "stream",
     "text": [
      "id\n",
      "member_id\n",
      "loan_amnt\n",
      "funded_amnt\n",
      "funded_amnt_inv\n",
      "term\n",
      "int_rate\n",
      "installment\n",
      "grade\n",
      "sub_grade\n",
      "emp_title\n",
      "emp_length\n",
      "home_ownership\n",
      "annual_inc\n",
      "verification_status\n",
      "issue_d\n",
      "loan_status\n",
      "pymnt_plan\n",
      "url\n",
      "desc\n",
      "purpose\n",
      "title\n",
      "zip_code\n",
      "addr_state\n",
      "dti\n",
      "delinq_2yrs\n",
      "earliest_cr_line\n",
      "inq_last_6mths\n",
      "mths_since_last_delinq\n",
      "mths_since_last_record\n",
      "open_acc\n",
      "pub_rec\n",
      "revol_bal\n",
      "revol_util\n",
      "total_acc\n",
      "initial_list_status\n",
      "out_prncp\n",
      "out_prncp_inv\n",
      "total_pymnt\n",
      "total_pymnt_inv\n",
      "total_rec_prncp\n",
      "total_rec_int\n",
      "total_rec_late_fee\n",
      "recoveries\n",
      "collection_recovery_fee\n",
      "last_pymnt_d\n",
      "last_pymnt_amnt\n",
      "next_pymnt_d\n",
      "last_credit_pull_d\n",
      "collections_12_mths_ex_med\n",
      "mths_since_last_major_derog\n",
      "policy_code\n",
      "application_type\n",
      "annual_inc_joint\n",
      "dti_joint\n",
      "verification_status_joint\n",
      "acc_now_delinq\n",
      "tot_coll_amt\n",
      "tot_cur_bal\n",
      "open_acc_6m\n",
      "open_il_6m\n",
      "open_il_12m\n",
      "open_il_24m\n",
      "mths_since_rcnt_il\n",
      "total_bal_il\n",
      "il_util\n",
      "open_rv_12m\n",
      "open_rv_24m\n",
      "max_bal_bc\n",
      "all_util\n",
      "total_rev_hi_lim\n",
      "inq_fi\n",
      "total_cu_tl\n",
      "inq_last_12m\n",
      "acc_open_past_24mths\n",
      "avg_cur_bal\n",
      "bc_open_to_buy\n",
      "bc_util\n",
      "chargeoff_within_12_mths\n",
      "delinq_amnt\n",
      "mo_sin_old_il_acct\n",
      "mo_sin_old_rev_tl_op\n",
      "mo_sin_rcnt_rev_tl_op\n",
      "mo_sin_rcnt_tl\n",
      "mort_acc\n",
      "mths_since_recent_bc\n",
      "mths_since_recent_bc_dlq\n",
      "mths_since_recent_inq\n",
      "mths_since_recent_revol_delinq\n",
      "num_accts_ever_120_pd\n",
      "num_actv_bc_tl\n",
      "num_actv_rev_tl\n",
      "num_bc_sats\n",
      "num_bc_tl\n",
      "num_il_tl\n",
      "num_op_rev_tl\n",
      "num_rev_accts\n",
      "num_rev_tl_bal_gt_0\n",
      "num_sats\n",
      "num_tl_120dpd_2m\n",
      "num_tl_30dpd\n",
      "num_tl_90g_dpd_24m\n",
      "num_tl_op_past_12m\n",
      "pct_tl_nvr_dlq\n",
      "percent_bc_gt_75\n",
      "pub_rec_bankruptcies\n",
      "tax_liens\n",
      "tot_hi_cred_lim\n",
      "total_bal_ex_mort\n",
      "total_bc_limit\n",
      "total_il_high_credit_limit\n"
     ]
    }
   ],
   "source": [
    "# Check if the columns in data match the data dictionary\n",
    "for column in loanData.columns:\n",
    "    print(column)"
   ]
  },
  {
   "cell_type": "markdown",
   "metadata": {},
   "source": [
    "- Columns in the data dictionary are not same as the columns in the actual data.\n",
    "- There are too many columns to be analysed. We can split the analysis for every 20 columns"
   ]
  },
  {
   "cell_type": "markdown",
   "metadata": {},
   "source": [
    "## Data Cleansing"
   ]
  },
  {
   "cell_type": "markdown",
   "metadata": {},
   "source": [
    "### Columns 1 to 20"
   ]
  },
  {
   "cell_type": "code",
   "execution_count": 8,
   "metadata": {},
   "outputs": [],
   "source": [
    "columns_1_to_20  = ['acc_now_delinq', 'addr_state', 'annual_inc', 'application_type', 'chargeoff_within_12_mths', 'collection_recovery_fee', 'collections_12_mths_ex_med', 'delinq_2yrs', 'delinq_amnt', 'desc', 'dti', 'earliest_cr_line', 'emp_length', 'emp_title', 'funded_amnt', 'funded_amnt_inv', 'grade', 'home_ownership', 'id', 'il_util']"
   ]
  },
  {
   "cell_type": "code",
   "execution_count": 9,
   "metadata": {},
   "outputs": [
    {
     "name": "stdout",
     "output_type": "stream",
     "text": [
      "<class 'pandas.core.frame.DataFrame'>\n",
      "RangeIndex: 39717 entries, 0 to 39716\n",
      "Data columns (total 20 columns):\n",
      " #   Column                      Non-Null Count  Dtype  \n",
      "---  ------                      --------------  -----  \n",
      " 0   acc_now_delinq              39717 non-null  int64  \n",
      " 1   addr_state                  39717 non-null  object \n",
      " 2   annual_inc                  39717 non-null  float64\n",
      " 3   application_type            39717 non-null  object \n",
      " 4   chargeoff_within_12_mths    39661 non-null  float64\n",
      " 5   collection_recovery_fee     39717 non-null  float64\n",
      " 6   collections_12_mths_ex_med  39661 non-null  float64\n",
      " 7   delinq_2yrs                 39717 non-null  int64  \n",
      " 8   delinq_amnt                 39717 non-null  int64  \n",
      " 9   desc                        26775 non-null  object \n",
      " 10  dti                         39717 non-null  float64\n",
      " 11  earliest_cr_line            39717 non-null  object \n",
      " 12  emp_length                  38642 non-null  object \n",
      " 13  emp_title                   37258 non-null  object \n",
      " 14  funded_amnt                 39717 non-null  int64  \n",
      " 15  funded_amnt_inv             39717 non-null  float64\n",
      " 16  grade                       39717 non-null  object \n",
      " 17  home_ownership              39717 non-null  object \n",
      " 18  id                          39717 non-null  int64  \n",
      " 19  il_util                     0 non-null      float64\n",
      "dtypes: float64(7), int64(5), object(8)\n",
      "memory usage: 6.1+ MB\n"
     ]
    }
   ],
   "source": [
    "loanData[columns_1_to_20].info()"
   ]
  },
  {
   "cell_type": "markdown",
   "metadata": {},
   "source": [
    "#### Observations\n",
    "- collections_12_mths_ex_med -  39661 - 56 missing entries\n",
    "- desc - 26775 - 12942 missing entries\n",
    "- emp_length - 38642 - 1255 missing entries\n",
    "- emp_title  - 37258 - 2459 missing entries\n",
    "- il_util - 0 non null values - Drop the column"
   ]
  },
  {
   "cell_type": "code",
   "execution_count": 10,
   "metadata": {},
   "outputs": [],
   "source": [
    "# Drop the il_util column\n",
    "loanData.drop('il_util', axis=1, inplace=True)"
   ]
  },
  {
   "cell_type": "code",
   "execution_count": 11,
   "metadata": {},
   "outputs": [],
   "source": [
    "columns_1_to_20.remove('il_util')"
   ]
  },
  {
   "cell_type": "markdown",
   "metadata": {},
   "source": [
    "### Now that we know there might be columns where all values are null. Check and either drop all such columns or fill with mean/mode values."
   ]
  },
  {
   "cell_type": "markdown",
   "metadata": {},
   "source": [
    "#### Drop all columns with NA values in all rows."
   ]
  },
  {
   "cell_type": "code",
   "execution_count": 12,
   "metadata": {},
   "outputs": [],
   "source": [
    "# Check for columns where there are complete null values and remove all those\n",
    "loanData = loanData.dropna(axis=1, how='all')"
   ]
  },
  {
   "cell_type": "code",
   "execution_count": 13,
   "metadata": {},
   "outputs": [
    {
     "data": {
      "text/plain": [
       "57"
      ]
     },
     "execution_count": 13,
     "metadata": {},
     "output_type": "execute_result"
    }
   ],
   "source": [
    "len(loanData.columns)"
   ]
  },
  {
   "cell_type": "code",
   "execution_count": 14,
   "metadata": {},
   "outputs": [
    {
     "name": "stdout",
     "output_type": "stream",
     "text": [
      "id\n",
      "member_id\n",
      "loan_amnt\n",
      "funded_amnt\n",
      "funded_amnt_inv\n",
      "term\n",
      "int_rate\n",
      "installment\n",
      "grade\n",
      "sub_grade\n",
      "emp_title\n",
      "emp_length\n",
      "home_ownership\n",
      "annual_inc\n",
      "verification_status\n",
      "issue_d\n",
      "loan_status\n",
      "pymnt_plan\n",
      "url\n",
      "desc\n",
      "purpose\n",
      "title\n",
      "zip_code\n",
      "addr_state\n",
      "dti\n",
      "delinq_2yrs\n",
      "earliest_cr_line\n",
      "inq_last_6mths\n",
      "mths_since_last_delinq\n",
      "mths_since_last_record\n",
      "open_acc\n",
      "pub_rec\n",
      "revol_bal\n",
      "revol_util\n",
      "total_acc\n",
      "initial_list_status\n",
      "out_prncp\n",
      "out_prncp_inv\n",
      "total_pymnt\n",
      "total_pymnt_inv\n",
      "total_rec_prncp\n",
      "total_rec_int\n",
      "total_rec_late_fee\n",
      "recoveries\n",
      "collection_recovery_fee\n",
      "last_pymnt_d\n",
      "last_pymnt_amnt\n",
      "next_pymnt_d\n",
      "last_credit_pull_d\n",
      "collections_12_mths_ex_med\n",
      "policy_code\n",
      "application_type\n",
      "acc_now_delinq\n",
      "chargeoff_within_12_mths\n",
      "delinq_amnt\n",
      "pub_rec_bankruptcies\n",
      "tax_liens\n"
     ]
    }
   ],
   "source": [
    "for column in loanData.columns:\n",
    "    print(column)"
   ]
  },
  {
   "cell_type": "markdown",
   "metadata": {},
   "source": [
    "- Observations\n",
    "- There are 57 columns left in the loanData dataframe which have non null values"
   ]
  },
  {
   "cell_type": "markdown",
   "metadata": {},
   "source": [
    "#### Columns - Part1"
   ]
  },
  {
   "cell_type": "code",
   "execution_count": 15,
   "metadata": {},
   "outputs": [],
   "source": [
    "cols_part1 = ['id', 'member_id', 'loan_amnt', 'funded_amnt', 'funded_amnt_inv', 'term', 'int_rate', 'installment', 'grade', 'sub_grade', 'emp_title', 'emp_length', 'home_ownership', 'annual_inc', 'verification_status']"
   ]
  },
  {
   "cell_type": "code",
   "execution_count": 16,
   "metadata": {},
   "outputs": [
    {
     "name": "stdout",
     "output_type": "stream",
     "text": [
      "<class 'pandas.core.frame.DataFrame'>\n",
      "RangeIndex: 39717 entries, 0 to 39716\n",
      "Data columns (total 15 columns):\n",
      " #   Column               Non-Null Count  Dtype  \n",
      "---  ------               --------------  -----  \n",
      " 0   id                   39717 non-null  int64  \n",
      " 1   member_id            39717 non-null  int64  \n",
      " 2   loan_amnt            39717 non-null  int64  \n",
      " 3   funded_amnt          39717 non-null  int64  \n",
      " 4   funded_amnt_inv      39717 non-null  float64\n",
      " 5   term                 39717 non-null  object \n",
      " 6   int_rate             39717 non-null  object \n",
      " 7   installment          39717 non-null  float64\n",
      " 8   grade                39717 non-null  object \n",
      " 9   sub_grade            39717 non-null  object \n",
      " 10  emp_title            37258 non-null  object \n",
      " 11  emp_length           38642 non-null  object \n",
      " 12  home_ownership       39717 non-null  object \n",
      " 13  annual_inc           39717 non-null  float64\n",
      " 14  verification_status  39717 non-null  object \n",
      "dtypes: float64(3), int64(4), object(8)\n",
      "memory usage: 4.5+ MB\n"
     ]
    }
   ],
   "source": [
    "loanData[cols_part1].info()"
   ]
  },
  {
   "cell_type": "markdown",
   "metadata": {},
   "source": [
    "- emp_title and emp_length have few missing values. Check the distinct values for these two columns\n",
    "- Additionally, below are the columns which do not add any value to identify if the loan applicant will be defaulter or not\n",
    "    - id\n",
    "    - member\n",
    "    - emp_title"
   ]
  },
  {
   "cell_type": "code",
   "execution_count": 17,
   "metadata": {},
   "outputs": [],
   "source": [
    "loanData.drop(['emp_title', 'id', 'member_id'], axis=1, inplace=True)"
   ]
  },
  {
   "cell_type": "code",
   "execution_count": 18,
   "metadata": {},
   "outputs": [],
   "source": [
    "for column in ['emp_title', 'id', 'member_id']:\n",
    "    cols_part1.remove(column)"
   ]
  },
  {
   "cell_type": "markdown",
   "metadata": {},
   "source": [
    "- emp_length has missing values. Lets try and fill or drop those"
   ]
  },
  {
   "cell_type": "code",
   "execution_count": 19,
   "metadata": {},
   "outputs": [
    {
     "data": {
      "text/plain": [
       "array(['10+ years', '< 1 year', '1 year', '3 years', '8 years', '9 years',\n",
       "       '4 years', '5 years', '6 years', '2 years', '7 years', nan],\n",
       "      dtype=object)"
      ]
     },
     "execution_count": 19,
     "metadata": {},
     "output_type": "execute_result"
    }
   ],
   "source": [
    "loanData['emp_length'].unique()"
   ]
  },
  {
   "cell_type": "code",
   "execution_count": 20,
   "metadata": {},
   "outputs": [
    {
     "data": {
      "text/plain": [
       "emp_length\n",
       "10+ years    8879\n",
       "< 1 year     4583\n",
       "2 years      4388\n",
       "3 years      4095\n",
       "4 years      3436\n",
       "5 years      3282\n",
       "1 year       3240\n",
       "6 years      2229\n",
       "7 years      1773\n",
       "8 years      1479\n",
       "9 years      1258\n",
       "Name: count, dtype: int64"
      ]
     },
     "execution_count": 20,
     "metadata": {},
     "output_type": "execute_result"
    }
   ],
   "source": [
    "loanData['emp_length'].value_counts()"
   ]
  },
  {
   "cell_type": "markdown",
   "metadata": {},
   "source": [
    "- 39717-38642=75 missing values. Since the number is very less. We shall try filling it with most common value or drop the rows."
   ]
  },
  {
   "cell_type": "code",
   "execution_count": 21,
   "metadata": {},
   "outputs": [
    {
     "data": {
      "text/plain": [
       "0    10+ years\n",
       "Name: emp_length, dtype: object"
      ]
     },
     "execution_count": 21,
     "metadata": {},
     "output_type": "execute_result"
    }
   ],
   "source": [
    "loanData['emp_length'].mode()"
   ]
  },
  {
   "cell_type": "markdown",
   "metadata": {},
   "source": [
    "- 10+ Years seems to be most frequent value. We can fill the missing values with the mode value."
   ]
  },
  {
   "cell_type": "code",
   "execution_count": 22,
   "metadata": {},
   "outputs": [],
   "source": [
    "loanData['emp_length'] = loanData['emp_length'].fillna(loanData['emp_length'].mode()[0])"
   ]
  },
  {
   "cell_type": "code",
   "execution_count": 23,
   "metadata": {},
   "outputs": [
    {
     "data": {
      "text/plain": [
       "array(['10+ years', '< 1 year', '1 year', '3 years', '8 years', '9 years',\n",
       "       '4 years', '5 years', '6 years', '2 years', '7 years'],\n",
       "      dtype=object)"
      ]
     },
     "execution_count": 23,
     "metadata": {},
     "output_type": "execute_result"
    }
   ],
   "source": [
    "loanData['emp_length'].unique()"
   ]
  },
  {
   "cell_type": "code",
   "execution_count": 24,
   "metadata": {},
   "outputs": [
    {
     "data": {
      "text/plain": [
       "(39717, 54)"
      ]
     },
     "execution_count": 24,
     "metadata": {},
     "output_type": "execute_result"
    }
   ],
   "source": [
    "loanData.shape"
   ]
  },
  {
   "cell_type": "code",
   "execution_count": 25,
   "metadata": {},
   "outputs": [
    {
     "name": "stdout",
     "output_type": "stream",
     "text": [
      "<class 'pandas.core.frame.DataFrame'>\n",
      "RangeIndex: 39717 entries, 0 to 39716\n",
      "Data columns (total 12 columns):\n",
      " #   Column               Non-Null Count  Dtype  \n",
      "---  ------               --------------  -----  \n",
      " 0   loan_amnt            39717 non-null  int64  \n",
      " 1   funded_amnt          39717 non-null  int64  \n",
      " 2   funded_amnt_inv      39717 non-null  float64\n",
      " 3   term                 39717 non-null  object \n",
      " 4   int_rate             39717 non-null  object \n",
      " 5   installment          39717 non-null  float64\n",
      " 6   grade                39717 non-null  object \n",
      " 7   sub_grade            39717 non-null  object \n",
      " 8   emp_length           39717 non-null  object \n",
      " 9   home_ownership       39717 non-null  object \n",
      " 10  annual_inc           39717 non-null  float64\n",
      " 11  verification_status  39717 non-null  object \n",
      "dtypes: float64(3), int64(2), object(7)\n",
      "memory usage: 3.6+ MB\n"
     ]
    }
   ],
   "source": [
    "loanData[cols_part1].info()"
   ]
  },
  {
   "cell_type": "markdown",
   "metadata": {},
   "source": [
    "#### Columns - Part 2"
   ]
  },
  {
   "cell_type": "code",
   "execution_count": 26,
   "metadata": {},
   "outputs": [],
   "source": [
    "cols_part2 = ['issue_d', 'loan_status', 'pymnt_plan', 'url', 'desc', 'purpose', 'title', 'zip_code', 'addr_state', 'dti', 'delinq_2yrs', 'earliest_cr_line', 'inq_last_6mths', 'mths_since_last_delinq', 'mths_since_last_record']"
   ]
  },
  {
   "cell_type": "code",
   "execution_count": 27,
   "metadata": {},
   "outputs": [
    {
     "name": "stdout",
     "output_type": "stream",
     "text": [
      "<class 'pandas.core.frame.DataFrame'>\n",
      "RangeIndex: 39717 entries, 0 to 39716\n",
      "Data columns (total 15 columns):\n",
      " #   Column                  Non-Null Count  Dtype  \n",
      "---  ------                  --------------  -----  \n",
      " 0   issue_d                 39717 non-null  object \n",
      " 1   loan_status             39717 non-null  object \n",
      " 2   pymnt_plan              39717 non-null  object \n",
      " 3   url                     39717 non-null  object \n",
      " 4   desc                    26775 non-null  object \n",
      " 5   purpose                 39717 non-null  object \n",
      " 6   title                   39706 non-null  object \n",
      " 7   zip_code                39717 non-null  object \n",
      " 8   addr_state              39717 non-null  object \n",
      " 9   dti                     39717 non-null  float64\n",
      " 10  delinq_2yrs             39717 non-null  int64  \n",
      " 11  earliest_cr_line        39717 non-null  object \n",
      " 12  inq_last_6mths          39717 non-null  int64  \n",
      " 13  mths_since_last_delinq  14035 non-null  float64\n",
      " 14  mths_since_last_record  2786 non-null   float64\n",
      "dtypes: float64(3), int64(2), object(10)\n",
      "memory usage: 4.5+ MB\n"
     ]
    }
   ],
   "source": [
    "loanData[cols_part2].info()"
   ]
  },
  {
   "cell_type": "markdown",
   "metadata": {},
   "source": [
    "- check the distinct values for desc, mths_since_last_delinq, mths_since_last_record"
   ]
  },
  {
   "cell_type": "markdown",
   "metadata": {},
   "source": [
    "- Looks like a free text field, don't see any value for our analysis. Lets drop the column"
   ]
  },
  {
   "cell_type": "markdown",
   "metadata": {},
   "source": [
    "- Out of the above columns, url, desc, title, zip_code, addr_state,  does not really add any value for our analysis.\n",
    "- Number of months since last deliquency does not add any value for our analysis as this data is captured post loan is Approved.\n",
    "- Same is the case with mths_since_last_record. We shall remove these columns."
   ]
  },
  {
   "cell_type": "code",
   "execution_count": 28,
   "metadata": {},
   "outputs": [],
   "source": [
    "loanData.drop(['url', 'desc', 'title', 'zip_code', 'addr_state', 'delinq_2yrs', 'mths_since_last_delinq', 'mths_since_last_record'], axis=1, inplace=True)"
   ]
  },
  {
   "cell_type": "code",
   "execution_count": 29,
   "metadata": {},
   "outputs": [],
   "source": [
    "for column in ['url', 'desc', 'title', 'zip_code', 'addr_state', 'delinq_2yrs', 'mths_since_last_delinq', 'mths_since_last_record']:\n",
    "    cols_part2.remove(column)"
   ]
  },
  {
   "cell_type": "markdown",
   "metadata": {},
   "source": [
    "#### Columns - Part 3"
   ]
  },
  {
   "cell_type": "code",
   "execution_count": 30,
   "metadata": {},
   "outputs": [],
   "source": [
    "cols_part3 = ['open_acc', 'pub_rec', 'revol_bal', 'revol_util', 'total_acc', 'initial_list_status', 'out_prncp', 'out_prncp_inv', 'total_pymnt', 'total_pymnt_inv', 'total_rec_prncp', 'total_rec_int', 'total_rec_late_fee', 'recoveries', 'collection_recovery_fee', 'last_pymnt_d']"
   ]
  },
  {
   "cell_type": "code",
   "execution_count": 31,
   "metadata": {},
   "outputs": [
    {
     "name": "stdout",
     "output_type": "stream",
     "text": [
      "<class 'pandas.core.frame.DataFrame'>\n",
      "RangeIndex: 39717 entries, 0 to 39716\n",
      "Data columns (total 16 columns):\n",
      " #   Column                   Non-Null Count  Dtype  \n",
      "---  ------                   --------------  -----  \n",
      " 0   open_acc                 39717 non-null  int64  \n",
      " 1   pub_rec                  39717 non-null  int64  \n",
      " 2   revol_bal                39717 non-null  int64  \n",
      " 3   revol_util               39667 non-null  object \n",
      " 4   total_acc                39717 non-null  int64  \n",
      " 5   initial_list_status      39717 non-null  object \n",
      " 6   out_prncp                39717 non-null  float64\n",
      " 7   out_prncp_inv            39717 non-null  float64\n",
      " 8   total_pymnt              39717 non-null  float64\n",
      " 9   total_pymnt_inv          39717 non-null  float64\n",
      " 10  total_rec_prncp          39717 non-null  float64\n",
      " 11  total_rec_int            39717 non-null  float64\n",
      " 12  total_rec_late_fee       39717 non-null  float64\n",
      " 13  recoveries               39717 non-null  float64\n",
      " 14  collection_recovery_fee  39717 non-null  float64\n",
      " 15  last_pymnt_d             39646 non-null  object \n",
      "dtypes: float64(9), int64(4), object(3)\n",
      "memory usage: 4.8+ MB\n"
     ]
    }
   ],
   "source": [
    "loanData[cols_part3].info()"
   ]
  },
  {
   "cell_type": "markdown",
   "metadata": {},
   "source": [
    "- revol_bal, out_prncp, out_prncp_inv, total_pymnt, total_pymnt_inv, total_rec_prncp, total_rec_int, total_rec_late_fee, recoveries, collection_recovery_fee and last_pymnt_d do not add any value for our analysis as this data is captured post loan is Approved."
   ]
  },
  {
   "cell_type": "code",
   "execution_count": 32,
   "metadata": {},
   "outputs": [],
   "source": [
    "loanData.drop(['revol_bal', 'out_prncp', 'out_prncp_inv', 'total_pymnt', 'total_pymnt_inv', 'total_rec_prncp', 'total_rec_int', 'total_rec_late_fee', 'recoveries', 'collection_recovery_fee', 'last_pymnt_d'], axis=1, inplace=True)"
   ]
  },
  {
   "cell_type": "code",
   "execution_count": 33,
   "metadata": {},
   "outputs": [],
   "source": [
    "for column in ['revol_bal', 'out_prncp', 'out_prncp_inv', 'total_pymnt', 'total_pymnt_inv', 'total_rec_prncp', 'total_rec_int', 'total_rec_late_fee', 'recoveries', 'collection_recovery_fee', 'last_pymnt_d']:\n",
    "    cols_part3.remove(column)"
   ]
  },
  {
   "cell_type": "markdown",
   "metadata": {},
   "source": [
    "#### Columns Part 4"
   ]
  },
  {
   "cell_type": "code",
   "execution_count": 34,
   "metadata": {},
   "outputs": [],
   "source": [
    "cols_part4 = ['last_pymnt_amnt', 'next_pymnt_d', 'last_credit_pull_d', 'collections_12_mths_ex_med', 'policy_code', 'application_type', 'acc_now_delinq', 'chargeoff_within_12_mths', 'delinq_amnt', 'pub_rec_bankruptcies', 'tax_liens']"
   ]
  },
  {
   "cell_type": "code",
   "execution_count": 35,
   "metadata": {},
   "outputs": [
    {
     "name": "stdout",
     "output_type": "stream",
     "text": [
      "<class 'pandas.core.frame.DataFrame'>\n",
      "RangeIndex: 39717 entries, 0 to 39716\n",
      "Data columns (total 11 columns):\n",
      " #   Column                      Non-Null Count  Dtype  \n",
      "---  ------                      --------------  -----  \n",
      " 0   last_pymnt_amnt             39717 non-null  float64\n",
      " 1   next_pymnt_d                1140 non-null   object \n",
      " 2   last_credit_pull_d          39715 non-null  object \n",
      " 3   collections_12_mths_ex_med  39661 non-null  float64\n",
      " 4   policy_code                 39717 non-null  int64  \n",
      " 5   application_type            39717 non-null  object \n",
      " 6   acc_now_delinq              39717 non-null  int64  \n",
      " 7   chargeoff_within_12_mths    39661 non-null  float64\n",
      " 8   delinq_amnt                 39717 non-null  int64  \n",
      " 9   pub_rec_bankruptcies        39020 non-null  float64\n",
      " 10  tax_liens                   39678 non-null  float64\n",
      "dtypes: float64(5), int64(3), object(3)\n",
      "memory usage: 3.3+ MB\n"
     ]
    }
   ],
   "source": [
    "loanData[cols_part4].info()"
   ]
  },
  {
   "cell_type": "markdown",
   "metadata": {},
   "source": [
    "- last_pymnt_amnt, next_pymnt_d, last_credit_pull_d, chargeoff_within_12_mths do not add any value for our analysis as this data is captured post loan is Approved."
   ]
  },
  {
   "cell_type": "code",
   "execution_count": 36,
   "metadata": {},
   "outputs": [],
   "source": [
    "loanData.drop(['last_pymnt_amnt', 'next_pymnt_d', 'last_credit_pull_d', 'chargeoff_within_12_mths'], axis=1, inplace=True)\n"
   ]
  },
  {
   "cell_type": "code",
   "execution_count": 37,
   "metadata": {},
   "outputs": [],
   "source": [
    "for column in ['last_pymnt_amnt', 'next_pymnt_d', 'last_credit_pull_d', 'chargeoff_within_12_mths']:\n",
    "    cols_part4.remove(column)"
   ]
  },
  {
   "cell_type": "markdown",
   "metadata": {},
   "source": [
    "#### Lets analyse the remaining columns and check what all columns are significant for identifying the defaulters"
   ]
  },
  {
   "cell_type": "code",
   "execution_count": 38,
   "metadata": {},
   "outputs": [
    {
     "data": {
      "text/plain": [
       "(39717, 31)"
      ]
     },
     "execution_count": 38,
     "metadata": {},
     "output_type": "execute_result"
    }
   ],
   "source": [
    "loanData.shape"
   ]
  },
  {
   "cell_type": "code",
   "execution_count": 39,
   "metadata": {},
   "outputs": [
    {
     "data": {
      "text/plain": [
       "Index(['loan_amnt', 'funded_amnt', 'funded_amnt_inv', 'term', 'int_rate',\n",
       "       'installment', 'grade', 'sub_grade', 'emp_length', 'home_ownership',\n",
       "       'annual_inc', 'verification_status', 'issue_d', 'loan_status',\n",
       "       'pymnt_plan', 'purpose', 'dti', 'earliest_cr_line', 'inq_last_6mths',\n",
       "       'open_acc', 'pub_rec', 'revol_util', 'total_acc', 'initial_list_status',\n",
       "       'collections_12_mths_ex_med', 'policy_code', 'application_type',\n",
       "       'acc_now_delinq', 'delinq_amnt', 'pub_rec_bankruptcies', 'tax_liens'],\n",
       "      dtype='object')"
      ]
     },
     "execution_count": 39,
     "metadata": {},
     "output_type": "execute_result"
    }
   ],
   "source": [
    "loanData.columns"
   ]
  },
  {
   "cell_type": "markdown",
   "metadata": {},
   "source": [
    "- Columns that need some value checks based on the data dictionary\n",
    "- 'pymnt_plan', 'initial_list_status', 'collections_12_mths_ex_med', 'policy_code','application_type', 'acc_now_delinq', 'delinq_amnt','pub_rec_bankruptcies', 'tax_liens"
   ]
  },
  {
   "cell_type": "markdown",
   "metadata": {},
   "source": [
    "- Lets check the values for each of the columns"
   ]
  },
  {
   "cell_type": "code",
   "execution_count": 40,
   "metadata": {},
   "outputs": [
    {
     "data": {
      "text/plain": [
       "array(['n'], dtype=object)"
      ]
     },
     "execution_count": 40,
     "metadata": {},
     "output_type": "execute_result"
    }
   ],
   "source": [
    "loanData['pymnt_plan'].unique()"
   ]
  },
  {
   "cell_type": "markdown",
   "metadata": {},
   "source": [
    "- Looks like none of the aplicants have any payment plan in place. As the value is 'n' - probably means no. Since single value does not make any difference for differentiating loan defaulters or the ones are going to repay. We shall drop this column "
   ]
  },
  {
   "cell_type": "code",
   "execution_count": 41,
   "metadata": {},
   "outputs": [],
   "source": [
    "loanData.drop('pymnt_plan', axis=1, inplace=True)"
   ]
  },
  {
   "cell_type": "code",
   "execution_count": 42,
   "metadata": {},
   "outputs": [
    {
     "data": {
      "text/plain": [
       "array(['f'], dtype=object)"
      ]
     },
     "execution_count": 42,
     "metadata": {},
     "output_type": "execute_result"
    }
   ],
   "source": [
    "loanData['initial_list_status'].unique()"
   ]
  },
  {
   "cell_type": "markdown",
   "metadata": {},
   "source": [
    "- As we saw earlier, single values do not make any difference for our analysis. Dropping the column"
   ]
  },
  {
   "cell_type": "code",
   "execution_count": 43,
   "metadata": {},
   "outputs": [],
   "source": [
    "loanData.drop('initial_list_status', axis=1, inplace=True)"
   ]
  },
  {
   "cell_type": "code",
   "execution_count": 44,
   "metadata": {},
   "outputs": [
    {
     "data": {
      "text/plain": [
       "array([ 0., nan])"
      ]
     },
     "execution_count": 44,
     "metadata": {},
     "output_type": "execute_result"
    }
   ],
   "source": [
    "loanData['collections_12_mths_ex_med'].unique()"
   ]
  },
  {
   "cell_type": "markdown",
   "metadata": {},
   "source": [
    "- Values are 0 and Not A Number - meaning data unavailable. This also does not add any benefit to our analysis. Lets drop this column."
   ]
  },
  {
   "cell_type": "code",
   "execution_count": 45,
   "metadata": {},
   "outputs": [],
   "source": [
    "loanData.drop('collections_12_mths_ex_med', axis=1, inplace=True)"
   ]
  },
  {
   "cell_type": "code",
   "execution_count": 46,
   "metadata": {},
   "outputs": [
    {
     "data": {
      "text/plain": [
       "array([1], dtype=int64)"
      ]
     },
     "execution_count": 46,
     "metadata": {},
     "output_type": "execute_result"
    }
   ],
   "source": [
    "loanData['policy_code'].unique()"
   ]
  },
  {
   "cell_type": "markdown",
   "metadata": {},
   "source": [
    "- Single Value, lets drop the column"
   ]
  },
  {
   "cell_type": "code",
   "execution_count": 47,
   "metadata": {},
   "outputs": [],
   "source": [
    "loanData.drop('policy_code', axis=1, inplace=True)"
   ]
  },
  {
   "cell_type": "code",
   "execution_count": 48,
   "metadata": {},
   "outputs": [
    {
     "data": {
      "text/plain": [
       "array(['INDIVIDUAL'], dtype=object)"
      ]
     },
     "execution_count": 48,
     "metadata": {},
     "output_type": "execute_result"
    }
   ],
   "source": [
    "loanData['application_type'].unique()"
   ]
  },
  {
   "cell_type": "markdown",
   "metadata": {},
   "source": [
    "- Single Value, lets drop the column"
   ]
  },
  {
   "cell_type": "code",
   "execution_count": 49,
   "metadata": {},
   "outputs": [],
   "source": [
    "loanData.drop('application_type', axis=1, inplace=True)"
   ]
  },
  {
   "cell_type": "code",
   "execution_count": 50,
   "metadata": {},
   "outputs": [
    {
     "data": {
      "text/plain": [
       "array([0], dtype=int64)"
      ]
     },
     "execution_count": 50,
     "metadata": {},
     "output_type": "execute_result"
    }
   ],
   "source": [
    "loanData['acc_now_delinq'].unique()"
   ]
  },
  {
   "cell_type": "markdown",
   "metadata": {},
   "source": [
    "- Single Value, lets drop the column"
   ]
  },
  {
   "cell_type": "code",
   "execution_count": 51,
   "metadata": {},
   "outputs": [],
   "source": [
    "loanData.drop('acc_now_delinq', axis=1, inplace=True)"
   ]
  },
  {
   "cell_type": "code",
   "execution_count": 52,
   "metadata": {},
   "outputs": [
    {
     "data": {
      "text/plain": [
       "array([0], dtype=int64)"
      ]
     },
     "execution_count": 52,
     "metadata": {},
     "output_type": "execute_result"
    }
   ],
   "source": [
    "loanData['delinq_amnt'].unique()"
   ]
  },
  {
   "cell_type": "markdown",
   "metadata": {},
   "source": [
    "- Single Value, lets drop the column"
   ]
  },
  {
   "cell_type": "code",
   "execution_count": 53,
   "metadata": {},
   "outputs": [],
   "source": [
    "loanData.drop('delinq_amnt', axis=1, inplace=True)"
   ]
  },
  {
   "cell_type": "code",
   "execution_count": 54,
   "metadata": {},
   "outputs": [
    {
     "data": {
      "text/plain": [
       "array([ 0.,  1.,  2., nan])"
      ]
     },
     "execution_count": 54,
     "metadata": {},
     "output_type": "execute_result"
    }
   ],
   "source": [
    "loanData['pub_rec_bankruptcies'].unique()"
   ]
  },
  {
   "cell_type": "markdown",
   "metadata": {},
   "source": [
    "- There are few values, looks like a categorical variable. Lets check the count for each category."
   ]
  },
  {
   "cell_type": "code",
   "execution_count": 55,
   "metadata": {},
   "outputs": [
    {
     "data": {
      "text/plain": [
       "pub_rec_bankruptcies\n",
       "0.0    37339\n",
       "1.0     1674\n",
       "2.0        7\n",
       "Name: count, dtype: int64"
      ]
     },
     "execution_count": 55,
     "metadata": {},
     "output_type": "execute_result"
    }
   ],
   "source": [
    "loanData['pub_rec_bankruptcies'].value_counts()"
   ]
  },
  {
   "cell_type": "code",
   "execution_count": 56,
   "metadata": {},
   "outputs": [
    {
     "name": "stdout",
     "output_type": "stream",
     "text": [
      "<class 'pandas.core.series.Series'>\n",
      "RangeIndex: 39717 entries, 0 to 39716\n",
      "Series name: pub_rec_bankruptcies\n",
      "Non-Null Count  Dtype  \n",
      "--------------  -----  \n",
      "39020 non-null  float64\n",
      "dtypes: float64(1)\n",
      "memory usage: 310.4 KB\n"
     ]
    }
   ],
   "source": [
    "loanData['pub_rec_bankruptcies'].info()"
   ]
  },
  {
   "cell_type": "markdown",
   "metadata": {},
   "source": [
    "- Most of the values are available, only few are missing. We can fill the value with the majority category."
   ]
  },
  {
   "cell_type": "code",
   "execution_count": 57,
   "metadata": {},
   "outputs": [],
   "source": [
    "loanData['pub_rec_bankruptcies'] = loanData['pub_rec_bankruptcies'].fillna(0)"
   ]
  },
  {
   "cell_type": "code",
   "execution_count": 58,
   "metadata": {},
   "outputs": [
    {
     "data": {
      "text/plain": [
       "array([0., 1., 2.])"
      ]
     },
     "execution_count": 58,
     "metadata": {},
     "output_type": "execute_result"
    }
   ],
   "source": [
    "loanData['pub_rec_bankruptcies'].unique()"
   ]
  },
  {
   "cell_type": "code",
   "execution_count": 59,
   "metadata": {},
   "outputs": [
    {
     "data": {
      "text/plain": [
       "array([ 0., nan])"
      ]
     },
     "execution_count": 59,
     "metadata": {},
     "output_type": "execute_result"
    }
   ],
   "source": [
    "# tax_liens\n",
    "loanData['tax_liens'].unique()"
   ]
  },
  {
   "cell_type": "markdown",
   "metadata": {},
   "source": [
    "- Values are 0 and Not A Number - meaning data unavailable. This also does not add any benefit to our analysis. Lets drop this column."
   ]
  },
  {
   "cell_type": "code",
   "execution_count": 60,
   "metadata": {},
   "outputs": [],
   "source": [
    "loanData.drop('tax_liens', axis=1, inplace=True)"
   ]
  },
  {
   "cell_type": "markdown",
   "metadata": {},
   "source": [
    "## Data Cleansing - Part 2"
   ]
  },
  {
   "cell_type": "markdown",
   "metadata": {},
   "source": [
    "### Check if the datatypes are accurate"
   ]
  },
  {
   "cell_type": "code",
   "execution_count": 61,
   "metadata": {},
   "outputs": [
    {
     "name": "stdout",
     "output_type": "stream",
     "text": [
      "<class 'pandas.core.frame.DataFrame'>\n",
      "RangeIndex: 39717 entries, 0 to 39716\n",
      "Data columns (total 23 columns):\n",
      " #   Column                Non-Null Count  Dtype  \n",
      "---  ------                --------------  -----  \n",
      " 0   loan_amnt             39717 non-null  int64  \n",
      " 1   funded_amnt           39717 non-null  int64  \n",
      " 2   funded_amnt_inv       39717 non-null  float64\n",
      " 3   term                  39717 non-null  object \n",
      " 4   int_rate              39717 non-null  object \n",
      " 5   installment           39717 non-null  float64\n",
      " 6   grade                 39717 non-null  object \n",
      " 7   sub_grade             39717 non-null  object \n",
      " 8   emp_length            39717 non-null  object \n",
      " 9   home_ownership        39717 non-null  object \n",
      " 10  annual_inc            39717 non-null  float64\n",
      " 11  verification_status   39717 non-null  object \n",
      " 12  issue_d               39717 non-null  object \n",
      " 13  loan_status           39717 non-null  object \n",
      " 14  purpose               39717 non-null  object \n",
      " 15  dti                   39717 non-null  float64\n",
      " 16  earliest_cr_line      39717 non-null  object \n",
      " 17  inq_last_6mths        39717 non-null  int64  \n",
      " 18  open_acc              39717 non-null  int64  \n",
      " 19  pub_rec               39717 non-null  int64  \n",
      " 20  revol_util            39667 non-null  object \n",
      " 21  total_acc             39717 non-null  int64  \n",
      " 22  pub_rec_bankruptcies  39717 non-null  float64\n",
      "dtypes: float64(5), int64(6), object(12)\n",
      "memory usage: 7.0+ MB\n"
     ]
    }
   ],
   "source": [
    "loanData.info()"
   ]
  },
  {
   "cell_type": "markdown",
   "metadata": {},
   "source": [
    "- Term and interest Rate \n",
    "- Check values for the columns"
   ]
  },
  {
   "cell_type": "code",
   "execution_count": 62,
   "metadata": {},
   "outputs": [
    {
     "data": {
      "text/html": [
       "<div>\n",
       "<style scoped>\n",
       "    .dataframe tbody tr th:only-of-type {\n",
       "        vertical-align: middle;\n",
       "    }\n",
       "\n",
       "    .dataframe tbody tr th {\n",
       "        vertical-align: top;\n",
       "    }\n",
       "\n",
       "    .dataframe thead th {\n",
       "        text-align: right;\n",
       "    }\n",
       "</style>\n",
       "<table border=\"1\" class=\"dataframe\">\n",
       "  <thead>\n",
       "    <tr style=\"text-align: right;\">\n",
       "      <th></th>\n",
       "      <th>term</th>\n",
       "      <th>int_rate</th>\n",
       "    </tr>\n",
       "  </thead>\n",
       "  <tbody>\n",
       "    <tr>\n",
       "      <th>0</th>\n",
       "      <td>36 months</td>\n",
       "      <td>10.65%</td>\n",
       "    </tr>\n",
       "    <tr>\n",
       "      <th>1</th>\n",
       "      <td>60 months</td>\n",
       "      <td>15.27%</td>\n",
       "    </tr>\n",
       "    <tr>\n",
       "      <th>2</th>\n",
       "      <td>36 months</td>\n",
       "      <td>15.96%</td>\n",
       "    </tr>\n",
       "    <tr>\n",
       "      <th>3</th>\n",
       "      <td>36 months</td>\n",
       "      <td>13.49%</td>\n",
       "    </tr>\n",
       "    <tr>\n",
       "      <th>4</th>\n",
       "      <td>60 months</td>\n",
       "      <td>12.69%</td>\n",
       "    </tr>\n",
       "  </tbody>\n",
       "</table>\n",
       "</div>"
      ],
      "text/plain": [
       "         term int_rate\n",
       "0   36 months   10.65%\n",
       "1   60 months   15.27%\n",
       "2   36 months   15.96%\n",
       "3   36 months   13.49%\n",
       "4   60 months   12.69%"
      ]
     },
     "execution_count": 62,
     "metadata": {},
     "output_type": "execute_result"
    }
   ],
   "source": [
    "loanData[['term', 'int_rate']].head()"
   ]
  },
  {
   "cell_type": "markdown",
   "metadata": {},
   "source": [
    "- term - The values are in months, we can create a new column which has only the integer value and convert the datatype to integer.\n",
    "- This will be helpful while finding the relationship with other attributes"
   ]
  },
  {
   "cell_type": "code",
   "execution_count": 63,
   "metadata": {},
   "outputs": [
    {
     "data": {
      "text/plain": [
       "array([36, 60], dtype=int64)"
      ]
     },
     "execution_count": 63,
     "metadata": {},
     "output_type": "execute_result"
    }
   ],
   "source": [
    "loanData['term'].apply(lambda x: int(x.split(' ')[1])).unique()"
   ]
  },
  {
   "cell_type": "code",
   "execution_count": 64,
   "metadata": {},
   "outputs": [],
   "source": [
    "loanData['term_of_loan'] = loanData['term'].apply(lambda x: int(x.split(' ')[1]))"
   ]
  },
  {
   "cell_type": "code",
   "execution_count": 65,
   "metadata": {},
   "outputs": [
    {
     "data": {
      "text/plain": [
       "term_of_loan\n",
       "36    29096\n",
       "60    10621\n",
       "Name: count, dtype: int64"
      ]
     },
     "execution_count": 65,
     "metadata": {},
     "output_type": "execute_result"
    }
   ],
   "source": [
    "loanData['term_of_loan'].value_counts()"
   ]
  },
  {
   "cell_type": "code",
   "execution_count": 66,
   "metadata": {},
   "outputs": [],
   "source": [
    "# Drop the column term\n",
    "loanData.drop('term', axis=1, inplace=True)"
   ]
  },
  {
   "cell_type": "markdown",
   "metadata": {},
   "source": [
    "- int_rate - The values are in decimals along with percentage symbol.\n",
    "- int_rate_percent - we can create a new column which has only the numerical value and convert the datatype to float.\n",
    "- This will be helpful while finding the relationship with other attributes"
   ]
  },
  {
   "cell_type": "code",
   "execution_count": 67,
   "metadata": {},
   "outputs": [
    {
     "data": {
      "text/plain": [
       "0        10.65\n",
       "1        15.27\n",
       "2        15.96\n",
       "3        13.49\n",
       "4        12.69\n",
       "         ...  \n",
       "39712     8.07\n",
       "39713    10.28\n",
       "39714     8.07\n",
       "39715     7.43\n",
       "39716    13.75\n",
       "Name: int_rate, Length: 39717, dtype: float64"
      ]
     },
     "execution_count": 67,
     "metadata": {},
     "output_type": "execute_result"
    }
   ],
   "source": [
    "loanData['int_rate'].apply(lambda x: float(x[:-1]))"
   ]
  },
  {
   "cell_type": "code",
   "execution_count": 68,
   "metadata": {},
   "outputs": [],
   "source": [
    "loanData['int_rate_percent'] = loanData['int_rate'].apply(lambda x: float(x[:-1]))"
   ]
  },
  {
   "cell_type": "code",
   "execution_count": 69,
   "metadata": {},
   "outputs": [
    {
     "data": {
      "text/plain": [
       "count    39717.000000\n",
       "mean        12.021177\n",
       "std          3.724825\n",
       "min          5.420000\n",
       "25%          9.250000\n",
       "50%         11.860000\n",
       "75%         14.590000\n",
       "max         24.590000\n",
       "Name: int_rate_percent, dtype: float64"
      ]
     },
     "execution_count": 69,
     "metadata": {},
     "output_type": "execute_result"
    }
   ],
   "source": [
    "loanData['int_rate_percent'].describe()"
   ]
  },
  {
   "cell_type": "code",
   "execution_count": 70,
   "metadata": {},
   "outputs": [],
   "source": [
    "# Drop int_rate column\n",
    "loanData.drop('int_rate', axis=1, inplace=True)"
   ]
  },
  {
   "cell_type": "markdown",
   "metadata": {},
   "source": [
    "- Continue Data Cleansing checks for below attributes\n",
    "- grade\n",
    "- sub_grade\n",
    "- emp_length\n",
    "- home_ownership"
   ]
  },
  {
   "cell_type": "code",
   "execution_count": 71,
   "metadata": {},
   "outputs": [
    {
     "data": {
      "text/html": [
       "<div>\n",
       "<style scoped>\n",
       "    .dataframe tbody tr th:only-of-type {\n",
       "        vertical-align: middle;\n",
       "    }\n",
       "\n",
       "    .dataframe tbody tr th {\n",
       "        vertical-align: top;\n",
       "    }\n",
       "\n",
       "    .dataframe thead th {\n",
       "        text-align: right;\n",
       "    }\n",
       "</style>\n",
       "<table border=\"1\" class=\"dataframe\">\n",
       "  <thead>\n",
       "    <tr style=\"text-align: right;\">\n",
       "      <th></th>\n",
       "      <th>grade</th>\n",
       "      <th>sub_grade</th>\n",
       "      <th>emp_length</th>\n",
       "      <th>home_ownership</th>\n",
       "    </tr>\n",
       "  </thead>\n",
       "  <tbody>\n",
       "    <tr>\n",
       "      <th>7</th>\n",
       "      <td>E</td>\n",
       "      <td>E1</td>\n",
       "      <td>9 years</td>\n",
       "      <td>RENT</td>\n",
       "    </tr>\n",
       "    <tr>\n",
       "      <th>26</th>\n",
       "      <td>C</td>\n",
       "      <td>C2</td>\n",
       "      <td>9 years</td>\n",
       "      <td>RENT</td>\n",
       "    </tr>\n",
       "    <tr>\n",
       "      <th>42</th>\n",
       "      <td>D</td>\n",
       "      <td>D5</td>\n",
       "      <td>9 years</td>\n",
       "      <td>MORTGAGE</td>\n",
       "    </tr>\n",
       "    <tr>\n",
       "      <th>51</th>\n",
       "      <td>B</td>\n",
       "      <td>B1</td>\n",
       "      <td>9 years</td>\n",
       "      <td>RENT</td>\n",
       "    </tr>\n",
       "    <tr>\n",
       "      <th>88</th>\n",
       "      <td>D</td>\n",
       "      <td>D1</td>\n",
       "      <td>9 years</td>\n",
       "      <td>RENT</td>\n",
       "    </tr>\n",
       "    <tr>\n",
       "      <th>...</th>\n",
       "      <td>...</td>\n",
       "      <td>...</td>\n",
       "      <td>...</td>\n",
       "      <td>...</td>\n",
       "    </tr>\n",
       "    <tr>\n",
       "      <th>39638</th>\n",
       "      <td>D</td>\n",
       "      <td>D2</td>\n",
       "      <td>9 years</td>\n",
       "      <td>MORTGAGE</td>\n",
       "    </tr>\n",
       "    <tr>\n",
       "      <th>39645</th>\n",
       "      <td>C</td>\n",
       "      <td>C5</td>\n",
       "      <td>9 years</td>\n",
       "      <td>MORTGAGE</td>\n",
       "    </tr>\n",
       "    <tr>\n",
       "      <th>39661</th>\n",
       "      <td>A</td>\n",
       "      <td>A3</td>\n",
       "      <td>9 years</td>\n",
       "      <td>OWN</td>\n",
       "    </tr>\n",
       "    <tr>\n",
       "      <th>39669</th>\n",
       "      <td>F</td>\n",
       "      <td>F1</td>\n",
       "      <td>9 years</td>\n",
       "      <td>MORTGAGE</td>\n",
       "    </tr>\n",
       "    <tr>\n",
       "      <th>39687</th>\n",
       "      <td>D</td>\n",
       "      <td>D3</td>\n",
       "      <td>9 years</td>\n",
       "      <td>OWN</td>\n",
       "    </tr>\n",
       "  </tbody>\n",
       "</table>\n",
       "<p>1258 rows × 4 columns</p>\n",
       "</div>"
      ],
      "text/plain": [
       "      grade sub_grade emp_length home_ownership\n",
       "7         E        E1    9 years           RENT\n",
       "26        C        C2    9 years           RENT\n",
       "42        D        D5    9 years       MORTGAGE\n",
       "51        B        B1    9 years           RENT\n",
       "88        D        D1    9 years           RENT\n",
       "...     ...       ...        ...            ...\n",
       "39638     D        D2    9 years       MORTGAGE\n",
       "39645     C        C5    9 years       MORTGAGE\n",
       "39661     A        A3    9 years            OWN\n",
       "39669     F        F1    9 years       MORTGAGE\n",
       "39687     D        D3    9 years            OWN\n",
       "\n",
       "[1258 rows x 4 columns]"
      ]
     },
     "execution_count": 71,
     "metadata": {},
     "output_type": "execute_result"
    }
   ],
   "source": [
    "loanData[['grade', 'sub_grade', 'emp_length', 'home_ownership']][loanData['emp_length'] == '9 years']"
   ]
  },
  {
   "cell_type": "markdown",
   "metadata": {},
   "source": [
    "- We can create a new column emp_duration using emp_length.\n",
    "- We shall use only the integer value and strip off other alpha characters\n",
    "- There are no values with '10 years'. Basically, if the duration is '10 years', the value is '10+ years' and same for the records if the duration is more than 10 years. Hence removing '+' from the value, doesn't make any difference. Same is the case with '< 1 year'"
   ]
  },
  {
   "cell_type": "code",
   "execution_count": 72,
   "metadata": {},
   "outputs": [],
   "source": [
    "'''\n",
    "This function is used to apply basic transformations on emp_length column and convert the datatype to int.\n",
    "'''\n",
    "def emp_duration_fun(x):\n",
    "    if '+' in x:\n",
    "        index_val = x.index('+')\n",
    "        return x[:index_val]\n",
    "    elif '<' in x:\n",
    "        return int(x.split(' ')[1])\n",
    "    else:\n",
    "        return int(x.split(' ')[0])"
   ]
  },
  {
   "cell_type": "code",
   "execution_count": 73,
   "metadata": {},
   "outputs": [],
   "source": [
    "loanData['emp_duration'] = loanData['emp_length'].apply(emp_duration_fun)"
   ]
  },
  {
   "cell_type": "code",
   "execution_count": 74,
   "metadata": {},
   "outputs": [
    {
     "data": {
      "text/plain": [
       "emp_duration\n",
       "10    9954\n",
       "1     7823\n",
       "2     4388\n",
       "3     4095\n",
       "4     3436\n",
       "5     3282\n",
       "6     2229\n",
       "7     1773\n",
       "8     1479\n",
       "9     1258\n",
       "Name: count, dtype: int64"
      ]
     },
     "execution_count": 74,
     "metadata": {},
     "output_type": "execute_result"
    }
   ],
   "source": [
    "loanData['emp_duration'].value_counts()"
   ]
  },
  {
   "cell_type": "markdown",
   "metadata": {},
   "source": [
    "- Continue Data Cleansing for  below:\n",
    "- verification_status\n",
    "- issue_d\n",
    "- loan_status\n",
    "- purpose"
   ]
  },
  {
   "cell_type": "code",
   "execution_count": 75,
   "metadata": {},
   "outputs": [],
   "source": [
    "# Drop emp_length column\n",
    "loanData.drop('emp_length', axis=1, inplace=True)"
   ]
  },
  {
   "cell_type": "code",
   "execution_count": 76,
   "metadata": {},
   "outputs": [
    {
     "data": {
      "text/html": [
       "<div>\n",
       "<style scoped>\n",
       "    .dataframe tbody tr th:only-of-type {\n",
       "        vertical-align: middle;\n",
       "    }\n",
       "\n",
       "    .dataframe tbody tr th {\n",
       "        vertical-align: top;\n",
       "    }\n",
       "\n",
       "    .dataframe thead th {\n",
       "        text-align: right;\n",
       "    }\n",
       "</style>\n",
       "<table border=\"1\" class=\"dataframe\">\n",
       "  <thead>\n",
       "    <tr style=\"text-align: right;\">\n",
       "      <th></th>\n",
       "      <th>verification_status</th>\n",
       "      <th>issue_d</th>\n",
       "      <th>loan_status</th>\n",
       "      <th>purpose</th>\n",
       "    </tr>\n",
       "  </thead>\n",
       "  <tbody>\n",
       "    <tr>\n",
       "      <th>0</th>\n",
       "      <td>Verified</td>\n",
       "      <td>Dec-11</td>\n",
       "      <td>Fully Paid</td>\n",
       "      <td>credit_card</td>\n",
       "    </tr>\n",
       "    <tr>\n",
       "      <th>1</th>\n",
       "      <td>Source Verified</td>\n",
       "      <td>Dec-11</td>\n",
       "      <td>Charged Off</td>\n",
       "      <td>car</td>\n",
       "    </tr>\n",
       "    <tr>\n",
       "      <th>2</th>\n",
       "      <td>Not Verified</td>\n",
       "      <td>Dec-11</td>\n",
       "      <td>Fully Paid</td>\n",
       "      <td>small_business</td>\n",
       "    </tr>\n",
       "    <tr>\n",
       "      <th>3</th>\n",
       "      <td>Source Verified</td>\n",
       "      <td>Dec-11</td>\n",
       "      <td>Fully Paid</td>\n",
       "      <td>other</td>\n",
       "    </tr>\n",
       "    <tr>\n",
       "      <th>4</th>\n",
       "      <td>Source Verified</td>\n",
       "      <td>Dec-11</td>\n",
       "      <td>Current</td>\n",
       "      <td>other</td>\n",
       "    </tr>\n",
       "  </tbody>\n",
       "</table>\n",
       "</div>"
      ],
      "text/plain": [
       "  verification_status issue_d  loan_status         purpose\n",
       "0            Verified  Dec-11   Fully Paid     credit_card\n",
       "1     Source Verified  Dec-11  Charged Off             car\n",
       "2        Not Verified  Dec-11   Fully Paid  small_business\n",
       "3     Source Verified  Dec-11   Fully Paid           other\n",
       "4     Source Verified  Dec-11      Current           other"
      ]
     },
     "execution_count": 76,
     "metadata": {},
     "output_type": "execute_result"
    }
   ],
   "source": [
    "loanData[['verification_status', 'issue_d', 'loan_status', 'purpose']].head()"
   ]
  },
  {
   "cell_type": "markdown",
   "metadata": {},
   "source": [
    "- issue_d -> Date of issue \n",
    "- We can create a new columns issue_year and issue_month using issue_d"
   ]
  },
  {
   "cell_type": "code",
   "execution_count": 77,
   "metadata": {},
   "outputs": [],
   "source": [
    "loanData['issue_year'] = pd.to_datetime(loanData['issue_d'], format='%b-%y').dt.strftime('%Y')"
   ]
  },
  {
   "cell_type": "code",
   "execution_count": 78,
   "metadata": {},
   "outputs": [],
   "source": [
    "loanData['issue_month'] = loanData['issue_d'].apply(lambda x: x.split('-')[0])"
   ]
  },
  {
   "cell_type": "code",
   "execution_count": 79,
   "metadata": {},
   "outputs": [],
   "source": [
    "# Drop issue_d column\n",
    "loanData.drop('issue_d', axis=1, inplace=True)"
   ]
  },
  {
   "cell_type": "markdown",
   "metadata": {},
   "source": [
    "- Continue the cleansing for below:\n",
    "- earliest_cr_line              \n",
    "- revol_util                 \n",
    "- application_type"
   ]
  },
  {
   "cell_type": "code",
   "execution_count": 80,
   "metadata": {},
   "outputs": [
    {
     "data": {
      "text/html": [
       "<div>\n",
       "<style scoped>\n",
       "    .dataframe tbody tr th:only-of-type {\n",
       "        vertical-align: middle;\n",
       "    }\n",
       "\n",
       "    .dataframe tbody tr th {\n",
       "        vertical-align: top;\n",
       "    }\n",
       "\n",
       "    .dataframe thead th {\n",
       "        text-align: right;\n",
       "    }\n",
       "</style>\n",
       "<table border=\"1\" class=\"dataframe\">\n",
       "  <thead>\n",
       "    <tr style=\"text-align: right;\">\n",
       "      <th></th>\n",
       "      <th>earliest_cr_line</th>\n",
       "      <th>revol_util</th>\n",
       "    </tr>\n",
       "  </thead>\n",
       "  <tbody>\n",
       "    <tr>\n",
       "      <th>0</th>\n",
       "      <td>Jan-85</td>\n",
       "      <td>83.70%</td>\n",
       "    </tr>\n",
       "    <tr>\n",
       "      <th>1</th>\n",
       "      <td>Apr-99</td>\n",
       "      <td>9.40%</td>\n",
       "    </tr>\n",
       "    <tr>\n",
       "      <th>2</th>\n",
       "      <td>Nov-01</td>\n",
       "      <td>98.50%</td>\n",
       "    </tr>\n",
       "    <tr>\n",
       "      <th>3</th>\n",
       "      <td>Feb-96</td>\n",
       "      <td>21%</td>\n",
       "    </tr>\n",
       "    <tr>\n",
       "      <th>4</th>\n",
       "      <td>Jan-96</td>\n",
       "      <td>53.90%</td>\n",
       "    </tr>\n",
       "  </tbody>\n",
       "</table>\n",
       "</div>"
      ],
      "text/plain": [
       "  earliest_cr_line revol_util\n",
       "0           Jan-85     83.70%\n",
       "1           Apr-99      9.40%\n",
       "2           Nov-01     98.50%\n",
       "3           Feb-96        21%\n",
       "4           Jan-96     53.90%"
      ]
     },
     "execution_count": 80,
     "metadata": {},
     "output_type": "execute_result"
    }
   ],
   "source": [
    "loanData[['earliest_cr_line', 'revol_util']].head()"
   ]
  },
  {
   "cell_type": "markdown",
   "metadata": {},
   "source": [
    "- revol_util can be used to create a new column with just numerical values\n",
    "- the column will be revol_cred_util_percent"
   ]
  },
  {
   "cell_type": "code",
   "execution_count": 81,
   "metadata": {},
   "outputs": [
    {
     "name": "stdout",
     "output_type": "stream",
     "text": [
      "<class 'pandas.core.series.Series'>\n",
      "RangeIndex: 39717 entries, 0 to 39716\n",
      "Series name: revol_util\n",
      "Non-Null Count  Dtype \n",
      "--------------  ----- \n",
      "39667 non-null  object\n",
      "dtypes: object(1)\n",
      "memory usage: 310.4+ KB\n"
     ]
    }
   ],
   "source": [
    "\n",
    "loanData['revol_util'].info()"
   ]
  },
  {
   "cell_type": "markdown",
   "metadata": {},
   "source": [
    "- There are some missing values. Either we can fill with the most common value or mean value or drop the rows.\n",
    "- Since the rows are less, we can drop the rows as it won't affect the analysis by much."
   ]
  },
  {
   "cell_type": "code",
   "execution_count": 82,
   "metadata": {},
   "outputs": [
    {
     "data": {
      "text/plain": [
       "(39717, 24)"
      ]
     },
     "execution_count": 82,
     "metadata": {},
     "output_type": "execute_result"
    }
   ],
   "source": [
    "loanData.shape"
   ]
  },
  {
   "cell_type": "code",
   "execution_count": 83,
   "metadata": {},
   "outputs": [
    {
     "data": {
      "text/plain": [
       "(39667, 24)"
      ]
     },
     "execution_count": 83,
     "metadata": {},
     "output_type": "execute_result"
    }
   ],
   "source": [
    "loanDataF1 = loanData[~ loanData['revol_util'].isna()]\n",
    "loanDataF1.shape"
   ]
  },
  {
   "cell_type": "code",
   "execution_count": 84,
   "metadata": {},
   "outputs": [],
   "source": [
    "loanDataF1['revol_cred_util_percent'] = loanDataF1['revol_util'].apply(lambda x: float(x[:-1]))"
   ]
  },
  {
   "cell_type": "code",
   "execution_count": 85,
   "metadata": {},
   "outputs": [],
   "source": [
    "# Drop revol_util column\n",
    "loanDataF1.drop('revol_util', axis=1, inplace=True)"
   ]
  },
  {
   "cell_type": "markdown",
   "metadata": {},
   "source": [
    "### Filter the unnecessary data for analysis"
   ]
  },
  {
   "cell_type": "code",
   "execution_count": 86,
   "metadata": {},
   "outputs": [
    {
     "name": "stdout",
     "output_type": "stream",
     "text": [
      "<class 'pandas.core.frame.DataFrame'>\n",
      "Index: 39667 entries, 0 to 39716\n",
      "Data columns (total 24 columns):\n",
      " #   Column                   Non-Null Count  Dtype  \n",
      "---  ------                   --------------  -----  \n",
      " 0   loan_amnt                39667 non-null  int64  \n",
      " 1   funded_amnt              39667 non-null  int64  \n",
      " 2   funded_amnt_inv          39667 non-null  float64\n",
      " 3   installment              39667 non-null  float64\n",
      " 4   grade                    39667 non-null  object \n",
      " 5   sub_grade                39667 non-null  object \n",
      " 6   home_ownership           39667 non-null  object \n",
      " 7   annual_inc               39667 non-null  float64\n",
      " 8   verification_status      39667 non-null  object \n",
      " 9   loan_status              39667 non-null  object \n",
      " 10  purpose                  39667 non-null  object \n",
      " 11  dti                      39667 non-null  float64\n",
      " 12  earliest_cr_line         39667 non-null  object \n",
      " 13  inq_last_6mths           39667 non-null  int64  \n",
      " 14  open_acc                 39667 non-null  int64  \n",
      " 15  pub_rec                  39667 non-null  int64  \n",
      " 16  total_acc                39667 non-null  int64  \n",
      " 17  pub_rec_bankruptcies     39667 non-null  float64\n",
      " 18  term_of_loan             39667 non-null  int64  \n",
      " 19  int_rate_percent         39667 non-null  float64\n",
      " 20  emp_duration             39667 non-null  object \n",
      " 21  issue_year               39667 non-null  object \n",
      " 22  issue_month              39667 non-null  object \n",
      " 23  revol_cred_util_percent  39667 non-null  float64\n",
      "dtypes: float64(7), int64(7), object(10)\n",
      "memory usage: 7.6+ MB\n"
     ]
    }
   ],
   "source": [
    "loanDataF1.info()"
   ]
  },
  {
   "cell_type": "markdown",
   "metadata": {},
   "source": [
    "- For the analysis, we need to consider only the applications which are either defaulted i.e. charged off or full paid by the customer.\n",
    "- lets filter the data based on the values in loan_status"
   ]
  },
  {
   "cell_type": "code",
   "execution_count": 87,
   "metadata": {},
   "outputs": [
    {
     "data": {
      "text/plain": [
       "loan_status\n",
       "Fully Paid     32916\n",
       "Charged Off     5611\n",
       "Current         1140\n",
       "Name: count, dtype: int64"
      ]
     },
     "execution_count": 87,
     "metadata": {},
     "output_type": "execute_result"
    }
   ],
   "source": [
    "loanDataF1['loan_status'].value_counts()"
   ]
  },
  {
   "cell_type": "markdown",
   "metadata": {},
   "source": [
    "- We can filter out the values with the loan_status 'Current'"
   ]
  },
  {
   "cell_type": "code",
   "execution_count": 88,
   "metadata": {},
   "outputs": [
    {
     "data": {
      "text/plain": [
       "(38527, 24)"
      ]
     },
     "execution_count": 88,
     "metadata": {},
     "output_type": "execute_result"
    }
   ],
   "source": [
    "loanDataF2 = loanDataF1[loanDataF1['loan_status'] != 'Current']\n",
    "loanDataF2.shape"
   ]
  },
  {
   "cell_type": "markdown",
   "metadata": {},
   "source": []
  },
  {
   "cell_type": "markdown",
   "metadata": {},
   "source": [
    "## Data Analysis - Part 1"
   ]
  },
  {
   "cell_type": "code",
   "execution_count": 89,
   "metadata": {},
   "outputs": [
    {
     "name": "stdout",
     "output_type": "stream",
     "text": [
      "<class 'pandas.core.frame.DataFrame'>\n",
      "Index: 38527 entries, 0 to 39716\n",
      "Data columns (total 24 columns):\n",
      " #   Column                   Non-Null Count  Dtype  \n",
      "---  ------                   --------------  -----  \n",
      " 0   loan_amnt                38527 non-null  int64  \n",
      " 1   funded_amnt              38527 non-null  int64  \n",
      " 2   funded_amnt_inv          38527 non-null  float64\n",
      " 3   installment              38527 non-null  float64\n",
      " 4   grade                    38527 non-null  object \n",
      " 5   sub_grade                38527 non-null  object \n",
      " 6   home_ownership           38527 non-null  object \n",
      " 7   annual_inc               38527 non-null  float64\n",
      " 8   verification_status      38527 non-null  object \n",
      " 9   loan_status              38527 non-null  object \n",
      " 10  purpose                  38527 non-null  object \n",
      " 11  dti                      38527 non-null  float64\n",
      " 12  earliest_cr_line         38527 non-null  object \n",
      " 13  inq_last_6mths           38527 non-null  int64  \n",
      " 14  open_acc                 38527 non-null  int64  \n",
      " 15  pub_rec                  38527 non-null  int64  \n",
      " 16  total_acc                38527 non-null  int64  \n",
      " 17  pub_rec_bankruptcies     38527 non-null  float64\n",
      " 18  term_of_loan             38527 non-null  int64  \n",
      " 19  int_rate_percent         38527 non-null  float64\n",
      " 20  emp_duration             38527 non-null  object \n",
      " 21  issue_year               38527 non-null  object \n",
      " 22  issue_month              38527 non-null  object \n",
      " 23  revol_cred_util_percent  38527 non-null  float64\n",
      "dtypes: float64(7), int64(7), object(10)\n",
      "memory usage: 7.3+ MB\n"
     ]
    }
   ],
   "source": [
    "loanDataF2.info()"
   ]
  },
  {
   "cell_type": "markdown",
   "metadata": {},
   "source": [
    "- All the attributes have non-null values. Data looks good for analysis"
   ]
  },
  {
   "cell_type": "code",
   "execution_count": 90,
   "metadata": {},
   "outputs": [
    {
     "data": {
      "text/html": [
       "<div>\n",
       "<style scoped>\n",
       "    .dataframe tbody tr th:only-of-type {\n",
       "        vertical-align: middle;\n",
       "    }\n",
       "\n",
       "    .dataframe tbody tr th {\n",
       "        vertical-align: top;\n",
       "    }\n",
       "\n",
       "    .dataframe thead th {\n",
       "        text-align: right;\n",
       "    }\n",
       "</style>\n",
       "<table border=\"1\" class=\"dataframe\">\n",
       "  <thead>\n",
       "    <tr style=\"text-align: right;\">\n",
       "      <th></th>\n",
       "      <th>loan_amnt</th>\n",
       "      <th>funded_amnt</th>\n",
       "      <th>funded_amnt_inv</th>\n",
       "      <th>installment</th>\n",
       "      <th>grade</th>\n",
       "      <th>sub_grade</th>\n",
       "      <th>home_ownership</th>\n",
       "      <th>annual_inc</th>\n",
       "      <th>verification_status</th>\n",
       "      <th>loan_status</th>\n",
       "      <th>...</th>\n",
       "      <th>open_acc</th>\n",
       "      <th>pub_rec</th>\n",
       "      <th>total_acc</th>\n",
       "      <th>pub_rec_bankruptcies</th>\n",
       "      <th>term_of_loan</th>\n",
       "      <th>int_rate_percent</th>\n",
       "      <th>emp_duration</th>\n",
       "      <th>issue_year</th>\n",
       "      <th>issue_month</th>\n",
       "      <th>revol_cred_util_percent</th>\n",
       "    </tr>\n",
       "  </thead>\n",
       "  <tbody>\n",
       "    <tr>\n",
       "      <th>0</th>\n",
       "      <td>5000</td>\n",
       "      <td>5000</td>\n",
       "      <td>4975.0</td>\n",
       "      <td>162.87</td>\n",
       "      <td>B</td>\n",
       "      <td>B2</td>\n",
       "      <td>RENT</td>\n",
       "      <td>24000.0</td>\n",
       "      <td>Verified</td>\n",
       "      <td>Fully Paid</td>\n",
       "      <td>...</td>\n",
       "      <td>3</td>\n",
       "      <td>0</td>\n",
       "      <td>9</td>\n",
       "      <td>0.0</td>\n",
       "      <td>36</td>\n",
       "      <td>10.65</td>\n",
       "      <td>10</td>\n",
       "      <td>2011</td>\n",
       "      <td>Dec</td>\n",
       "      <td>83.7</td>\n",
       "    </tr>\n",
       "    <tr>\n",
       "      <th>1</th>\n",
       "      <td>2500</td>\n",
       "      <td>2500</td>\n",
       "      <td>2500.0</td>\n",
       "      <td>59.83</td>\n",
       "      <td>C</td>\n",
       "      <td>C4</td>\n",
       "      <td>RENT</td>\n",
       "      <td>30000.0</td>\n",
       "      <td>Source Verified</td>\n",
       "      <td>Charged Off</td>\n",
       "      <td>...</td>\n",
       "      <td>3</td>\n",
       "      <td>0</td>\n",
       "      <td>4</td>\n",
       "      <td>0.0</td>\n",
       "      <td>60</td>\n",
       "      <td>15.27</td>\n",
       "      <td>1</td>\n",
       "      <td>2011</td>\n",
       "      <td>Dec</td>\n",
       "      <td>9.4</td>\n",
       "    </tr>\n",
       "    <tr>\n",
       "      <th>2</th>\n",
       "      <td>2400</td>\n",
       "      <td>2400</td>\n",
       "      <td>2400.0</td>\n",
       "      <td>84.33</td>\n",
       "      <td>C</td>\n",
       "      <td>C5</td>\n",
       "      <td>RENT</td>\n",
       "      <td>12252.0</td>\n",
       "      <td>Not Verified</td>\n",
       "      <td>Fully Paid</td>\n",
       "      <td>...</td>\n",
       "      <td>2</td>\n",
       "      <td>0</td>\n",
       "      <td>10</td>\n",
       "      <td>0.0</td>\n",
       "      <td>36</td>\n",
       "      <td>15.96</td>\n",
       "      <td>10</td>\n",
       "      <td>2011</td>\n",
       "      <td>Dec</td>\n",
       "      <td>98.5</td>\n",
       "    </tr>\n",
       "    <tr>\n",
       "      <th>3</th>\n",
       "      <td>10000</td>\n",
       "      <td>10000</td>\n",
       "      <td>10000.0</td>\n",
       "      <td>339.31</td>\n",
       "      <td>C</td>\n",
       "      <td>C1</td>\n",
       "      <td>RENT</td>\n",
       "      <td>49200.0</td>\n",
       "      <td>Source Verified</td>\n",
       "      <td>Fully Paid</td>\n",
       "      <td>...</td>\n",
       "      <td>10</td>\n",
       "      <td>0</td>\n",
       "      <td>37</td>\n",
       "      <td>0.0</td>\n",
       "      <td>36</td>\n",
       "      <td>13.49</td>\n",
       "      <td>10</td>\n",
       "      <td>2011</td>\n",
       "      <td>Dec</td>\n",
       "      <td>21.0</td>\n",
       "    </tr>\n",
       "    <tr>\n",
       "      <th>5</th>\n",
       "      <td>5000</td>\n",
       "      <td>5000</td>\n",
       "      <td>5000.0</td>\n",
       "      <td>156.46</td>\n",
       "      <td>A</td>\n",
       "      <td>A4</td>\n",
       "      <td>RENT</td>\n",
       "      <td>36000.0</td>\n",
       "      <td>Source Verified</td>\n",
       "      <td>Fully Paid</td>\n",
       "      <td>...</td>\n",
       "      <td>9</td>\n",
       "      <td>0</td>\n",
       "      <td>12</td>\n",
       "      <td>0.0</td>\n",
       "      <td>36</td>\n",
       "      <td>7.90</td>\n",
       "      <td>3</td>\n",
       "      <td>2011</td>\n",
       "      <td>Dec</td>\n",
       "      <td>28.3</td>\n",
       "    </tr>\n",
       "  </tbody>\n",
       "</table>\n",
       "<p>5 rows × 24 columns</p>\n",
       "</div>"
      ],
      "text/plain": [
       "   loan_amnt  funded_amnt  funded_amnt_inv  installment grade sub_grade  \\\n",
       "0       5000         5000           4975.0       162.87     B        B2   \n",
       "1       2500         2500           2500.0        59.83     C        C4   \n",
       "2       2400         2400           2400.0        84.33     C        C5   \n",
       "3      10000        10000          10000.0       339.31     C        C1   \n",
       "5       5000         5000           5000.0       156.46     A        A4   \n",
       "\n",
       "  home_ownership  annual_inc verification_status  loan_status  ... open_acc  \\\n",
       "0           RENT     24000.0            Verified   Fully Paid  ...        3   \n",
       "1           RENT     30000.0     Source Verified  Charged Off  ...        3   \n",
       "2           RENT     12252.0        Not Verified   Fully Paid  ...        2   \n",
       "3           RENT     49200.0     Source Verified   Fully Paid  ...       10   \n",
       "5           RENT     36000.0     Source Verified   Fully Paid  ...        9   \n",
       "\n",
       "   pub_rec total_acc  pub_rec_bankruptcies  term_of_loan  int_rate_percent  \\\n",
       "0        0         9                   0.0            36             10.65   \n",
       "1        0         4                   0.0            60             15.27   \n",
       "2        0        10                   0.0            36             15.96   \n",
       "3        0        37                   0.0            36             13.49   \n",
       "5        0        12                   0.0            36              7.90   \n",
       "\n",
       "   emp_duration  issue_year  issue_month  revol_cred_util_percent  \n",
       "0            10        2011          Dec                     83.7  \n",
       "1             1        2011          Dec                      9.4  \n",
       "2            10        2011          Dec                     98.5  \n",
       "3            10        2011          Dec                     21.0  \n",
       "5             3        2011          Dec                     28.3  \n",
       "\n",
       "[5 rows x 24 columns]"
      ]
     },
     "execution_count": 90,
     "metadata": {},
     "output_type": "execute_result"
    }
   ],
   "source": [
    "loanDataF2.head()"
   ]
  },
  {
   "cell_type": "code",
   "execution_count": 91,
   "metadata": {},
   "outputs": [
    {
     "data": {
      "text/html": [
       "<div>\n",
       "<style scoped>\n",
       "    .dataframe tbody tr th:only-of-type {\n",
       "        vertical-align: middle;\n",
       "    }\n",
       "\n",
       "    .dataframe tbody tr th {\n",
       "        vertical-align: top;\n",
       "    }\n",
       "\n",
       "    .dataframe thead th {\n",
       "        text-align: right;\n",
       "    }\n",
       "</style>\n",
       "<table border=\"1\" class=\"dataframe\">\n",
       "  <thead>\n",
       "    <tr style=\"text-align: right;\">\n",
       "      <th></th>\n",
       "      <th>loan_amnt</th>\n",
       "      <th>funded_amnt</th>\n",
       "      <th>funded_amnt_inv</th>\n",
       "      <th>installment</th>\n",
       "      <th>annual_inc</th>\n",
       "      <th>dti</th>\n",
       "      <th>inq_last_6mths</th>\n",
       "      <th>open_acc</th>\n",
       "      <th>pub_rec</th>\n",
       "      <th>total_acc</th>\n",
       "      <th>pub_rec_bankruptcies</th>\n",
       "      <th>term_of_loan</th>\n",
       "      <th>int_rate_percent</th>\n",
       "      <th>revol_cred_util_percent</th>\n",
       "    </tr>\n",
       "  </thead>\n",
       "  <tbody>\n",
       "    <tr>\n",
       "      <th>count</th>\n",
       "      <td>38527.000000</td>\n",
       "      <td>38527.000000</td>\n",
       "      <td>38527.000000</td>\n",
       "      <td>38527.000000</td>\n",
       "      <td>3.852700e+04</td>\n",
       "      <td>38527.000000</td>\n",
       "      <td>38527.000000</td>\n",
       "      <td>38527.000000</td>\n",
       "      <td>38527.000000</td>\n",
       "      <td>38527.000000</td>\n",
       "      <td>38527.000000</td>\n",
       "      <td>38527.000000</td>\n",
       "      <td>38527.000000</td>\n",
       "      <td>38527.000000</td>\n",
       "    </tr>\n",
       "    <tr>\n",
       "      <th>mean</th>\n",
       "      <td>11055.265139</td>\n",
       "      <td>10791.956939</td>\n",
       "      <td>10230.940095</td>\n",
       "      <td>322.678650</td>\n",
       "      <td>6.880923e+04</td>\n",
       "      <td>13.276353</td>\n",
       "      <td>0.871752</td>\n",
       "      <td>9.281413</td>\n",
       "      <td>0.055442</td>\n",
       "      <td>22.067615</td>\n",
       "      <td>0.042723</td>\n",
       "      <td>41.904223</td>\n",
       "      <td>11.927378</td>\n",
       "      <td>48.702777</td>\n",
       "    </tr>\n",
       "    <tr>\n",
       "      <th>std</th>\n",
       "      <td>7348.433587</td>\n",
       "      <td>7090.256225</td>\n",
       "      <td>7022.678989</td>\n",
       "      <td>208.649278</td>\n",
       "      <td>6.421493e+04</td>\n",
       "      <td>6.671392</td>\n",
       "      <td>1.071756</td>\n",
       "      <td>4.400158</td>\n",
       "      <td>0.237853</td>\n",
       "      <td>11.422526</td>\n",
       "      <td>0.202876</td>\n",
       "      <td>10.336550</td>\n",
       "      <td>3.690161</td>\n",
       "      <td>28.364741</td>\n",
       "    </tr>\n",
       "    <tr>\n",
       "      <th>min</th>\n",
       "      <td>500.000000</td>\n",
       "      <td>500.000000</td>\n",
       "      <td>0.000000</td>\n",
       "      <td>15.690000</td>\n",
       "      <td>4.000000e+03</td>\n",
       "      <td>0.000000</td>\n",
       "      <td>0.000000</td>\n",
       "      <td>2.000000</td>\n",
       "      <td>0.000000</td>\n",
       "      <td>2.000000</td>\n",
       "      <td>0.000000</td>\n",
       "      <td>36.000000</td>\n",
       "      <td>5.420000</td>\n",
       "      <td>0.000000</td>\n",
       "    </tr>\n",
       "    <tr>\n",
       "      <th>25%</th>\n",
       "      <td>5325.000000</td>\n",
       "      <td>5200.000000</td>\n",
       "      <td>5000.000000</td>\n",
       "      <td>165.740000</td>\n",
       "      <td>4.000000e+04</td>\n",
       "      <td>8.140000</td>\n",
       "      <td>0.000000</td>\n",
       "      <td>6.000000</td>\n",
       "      <td>0.000000</td>\n",
       "      <td>13.000000</td>\n",
       "      <td>0.000000</td>\n",
       "      <td>36.000000</td>\n",
       "      <td>8.940000</td>\n",
       "      <td>25.200000</td>\n",
       "    </tr>\n",
       "    <tr>\n",
       "      <th>50%</th>\n",
       "      <td>9600.000000</td>\n",
       "      <td>9600.000000</td>\n",
       "      <td>8750.000000</td>\n",
       "      <td>278.150000</td>\n",
       "      <td>5.900000e+04</td>\n",
       "      <td>13.370000</td>\n",
       "      <td>1.000000</td>\n",
       "      <td>9.000000</td>\n",
       "      <td>0.000000</td>\n",
       "      <td>20.000000</td>\n",
       "      <td>0.000000</td>\n",
       "      <td>36.000000</td>\n",
       "      <td>11.710000</td>\n",
       "      <td>49.100000</td>\n",
       "    </tr>\n",
       "    <tr>\n",
       "      <th>75%</th>\n",
       "      <td>15000.000000</td>\n",
       "      <td>15000.000000</td>\n",
       "      <td>14000.000000</td>\n",
       "      <td>425.860000</td>\n",
       "      <td>8.200000e+04</td>\n",
       "      <td>18.560000</td>\n",
       "      <td>1.000000</td>\n",
       "      <td>12.000000</td>\n",
       "      <td>0.000000</td>\n",
       "      <td>29.000000</td>\n",
       "      <td>0.000000</td>\n",
       "      <td>36.000000</td>\n",
       "      <td>14.350000</td>\n",
       "      <td>72.300000</td>\n",
       "    </tr>\n",
       "    <tr>\n",
       "      <th>max</th>\n",
       "      <td>35000.000000</td>\n",
       "      <td>35000.000000</td>\n",
       "      <td>35000.000000</td>\n",
       "      <td>1305.190000</td>\n",
       "      <td>6.000000e+06</td>\n",
       "      <td>29.990000</td>\n",
       "      <td>8.000000</td>\n",
       "      <td>44.000000</td>\n",
       "      <td>4.000000</td>\n",
       "      <td>90.000000</td>\n",
       "      <td>2.000000</td>\n",
       "      <td>60.000000</td>\n",
       "      <td>24.400000</td>\n",
       "      <td>99.900000</td>\n",
       "    </tr>\n",
       "  </tbody>\n",
       "</table>\n",
       "</div>"
      ],
      "text/plain": [
       "          loan_amnt   funded_amnt  funded_amnt_inv   installment  \\\n",
       "count  38527.000000  38527.000000     38527.000000  38527.000000   \n",
       "mean   11055.265139  10791.956939     10230.940095    322.678650   \n",
       "std     7348.433587   7090.256225      7022.678989    208.649278   \n",
       "min      500.000000    500.000000         0.000000     15.690000   \n",
       "25%     5325.000000   5200.000000      5000.000000    165.740000   \n",
       "50%     9600.000000   9600.000000      8750.000000    278.150000   \n",
       "75%    15000.000000  15000.000000     14000.000000    425.860000   \n",
       "max    35000.000000  35000.000000     35000.000000   1305.190000   \n",
       "\n",
       "         annual_inc           dti  inq_last_6mths      open_acc       pub_rec  \\\n",
       "count  3.852700e+04  38527.000000    38527.000000  38527.000000  38527.000000   \n",
       "mean   6.880923e+04     13.276353        0.871752      9.281413      0.055442   \n",
       "std    6.421493e+04      6.671392        1.071756      4.400158      0.237853   \n",
       "min    4.000000e+03      0.000000        0.000000      2.000000      0.000000   \n",
       "25%    4.000000e+04      8.140000        0.000000      6.000000      0.000000   \n",
       "50%    5.900000e+04     13.370000        1.000000      9.000000      0.000000   \n",
       "75%    8.200000e+04     18.560000        1.000000     12.000000      0.000000   \n",
       "max    6.000000e+06     29.990000        8.000000     44.000000      4.000000   \n",
       "\n",
       "          total_acc  pub_rec_bankruptcies  term_of_loan  int_rate_percent  \\\n",
       "count  38527.000000          38527.000000  38527.000000      38527.000000   \n",
       "mean      22.067615              0.042723     41.904223         11.927378   \n",
       "std       11.422526              0.202876     10.336550          3.690161   \n",
       "min        2.000000              0.000000     36.000000          5.420000   \n",
       "25%       13.000000              0.000000     36.000000          8.940000   \n",
       "50%       20.000000              0.000000     36.000000         11.710000   \n",
       "75%       29.000000              0.000000     36.000000         14.350000   \n",
       "max       90.000000              2.000000     60.000000         24.400000   \n",
       "\n",
       "       revol_cred_util_percent  \n",
       "count             38527.000000  \n",
       "mean                 48.702777  \n",
       "std                  28.364741  \n",
       "min                   0.000000  \n",
       "25%                  25.200000  \n",
       "50%                  49.100000  \n",
       "75%                  72.300000  \n",
       "max                  99.900000  "
      ]
     },
     "execution_count": 91,
     "metadata": {},
     "output_type": "execute_result"
    }
   ],
   "source": [
    "# Identifying if the data has any outliers\n",
    "loanDataF2.describe()"
   ]
  },
  {
   "cell_type": "markdown",
   "metadata": {},
   "source": [
    "- Of all the values funded_amnt_inv, annual_inc seems to have huge difference between 50th percentile and mean.\n",
    "- Lets find out if there are outliers using box plot"
   ]
  },
  {
   "cell_type": "code",
   "execution_count": 92,
   "metadata": {},
   "outputs": [
    {
     "data": {
      "image/png": "[encoded data removed]",
      "text/plain": [
       "<Figure size 640x480 with 1 Axes>"
      ]
     },
     "metadata": {},
     "output_type": "display_data"
    }
   ],
   "source": [
    "# loanDataF2['annual_inc'].plot.box()\n",
    "plt.boxplot(x=loanDataF2['annual_inc'])\n",
    "plt.title('Box Plot - Annual Income\\n', fontdict={'fontsize':18})\n",
    "plt.xlabel('Annual Income', fontdict={'fontsize':15})\n",
    "plt.show()"
   ]
  },
  {
   "cell_type": "markdown",
   "metadata": {},
   "source": [
    "- graph shows that there are lot of outliers. We need to get rid of outliers to ensure that the analysis is accurate."
   ]
  },
  {
   "cell_type": "markdown",
   "metadata": {},
   "source": [
    "- We can use remove 5% of outliers to begin with and verify if the data is within a fair range"
   ]
  },
  {
   "cell_type": "code",
   "execution_count": 93,
   "metadata": {},
   "outputs": [],
   "source": [
    "remove_percent_quantile = loanDataF2['annual_inc'].quantile(0.95)"
   ]
  },
  {
   "cell_type": "code",
   "execution_count": 94,
   "metadata": {},
   "outputs": [
    {
     "data": {
      "text/plain": [
       "140004.0"
      ]
     },
     "execution_count": 94,
     "metadata": {},
     "output_type": "execute_result"
    }
   ],
   "source": [
    "remove_percent_quantile"
   ]
  },
  {
   "cell_type": "code",
   "execution_count": 95,
   "metadata": {},
   "outputs": [],
   "source": [
    "loanDataF3 = loanDataF2[loanDataF2['annual_inc'] < remove_percent_quantile]"
   ]
  },
  {
   "cell_type": "code",
   "execution_count": 96,
   "metadata": {},
   "outputs": [
    {
     "data": {
      "image/png": "[encoded data removed]",
      "text/plain": [
       "<Figure size 640x480 with 1 Axes>"
      ]
     },
     "metadata": {},
     "output_type": "display_data"
    }
   ],
   "source": [
    "plt.boxplot(x=loanDataF3['annual_inc'])\n",
    "plt.title('Box Plot - Annual Income - After Removing Outliers\\n', fontdict={'fontsize':18})\n",
    "plt.xlabel('Annual Income', fontdict={'fontsize':15})\n",
    "plt.show()"
   ]
  },
  {
   "cell_type": "markdown",
   "metadata": {},
   "source": [
    "- Graph looks much better after removing 5 percentile of the data."
   ]
  },
  {
   "cell_type": "code",
   "execution_count": 97,
   "metadata": {},
   "outputs": [
    {
     "data": {
      "image/png": "[encoded data removed]",
      "text/plain": [
       "<Figure size 640x480 with 1 Axes>"
      ]
     },
     "metadata": {},
     "output_type": "display_data"
    }
   ],
   "source": [
    "plt.boxplot(x=loanDataF3['funded_amnt_inv'])\n",
    "plt.title('Box Plot - Fund Amount Commited By Investors \\n', fontdict={'fontsize':18})\n",
    "plt.xlabel('Fund Amount', fontdict={'fontsize':15})\n",
    "plt.show()"
   ]
  },
  {
   "cell_type": "markdown",
   "metadata": {},
   "source": [
    "- There are some outliers for this attribute. Lets check the percentiles."
   ]
  },
  {
   "cell_type": "code",
   "execution_count": 98,
   "metadata": {},
   "outputs": [
    {
     "data": {
      "text/plain": [
       "0.2     4200.000000\n",
       "0.3     5500.000000\n",
       "0.4     6955.935151\n",
       "0.5     8394.564067\n",
       "0.6    10000.000000\n",
       "0.7    12000.000000\n",
       "0.8    14975.000000\n",
       "0.9    19750.000000\n",
       "Name: funded_amnt_inv, dtype: float64"
      ]
     },
     "execution_count": 98,
     "metadata": {},
     "output_type": "execute_result"
    }
   ],
   "source": [
    "loanDataF3['funded_amnt_inv'].quantile([0.2, 0.3, 0.4, 0.5, 0.6, 0.7, 0.8, 0.9])"
   ]
  },
  {
   "cell_type": "markdown",
   "metadata": {},
   "source": [
    "- The difference between 80th percentile and 90th percentile is huge compared to other percentiles."
   ]
  },
  {
   "cell_type": "markdown",
   "metadata": {},
   "source": [
    "- Lets check the distribution with more precision"
   ]
  },
  {
   "cell_type": "code",
   "execution_count": 99,
   "metadata": {},
   "outputs": [
    {
     "data": {
      "text/plain": [
       "0.800    14975.000000\n",
       "0.825    15350.000000\n",
       "0.850    16425.000000\n",
       "0.875    17983.783373\n",
       "0.900    19750.000000\n",
       "0.925    20676.233635\n",
       "0.950    23941.875589\n",
       "0.975    25350.000000\n",
       "Name: funded_amnt_inv, dtype: float64"
      ]
     },
     "execution_count": 99,
     "metadata": {},
     "output_type": "execute_result"
    }
   ],
   "source": [
    "loanDataF3['funded_amnt_inv'].quantile([0.8, 0.825, 0.85, 0.875, 0.9, 0.925, 0.95, 0.975])"
   ]
  },
  {
   "cell_type": "markdown",
   "metadata": {},
   "source": [
    "- Even though there are some outliers, the difference when we consider detailed quantile values, the difference is not that much. So, lets retain the values."
   ]
  },
  {
   "cell_type": "markdown",
   "metadata": {},
   "source": [
    "## Data Analysis - Part 2"
   ]
  },
  {
   "cell_type": "code",
   "execution_count": 100,
   "metadata": {},
   "outputs": [
    {
     "name": "stdout",
     "output_type": "stream",
     "text": [
      "<class 'pandas.core.frame.DataFrame'>\n",
      "Index: 36594 entries, 0 to 39716\n",
      "Data columns (total 24 columns):\n",
      " #   Column                   Non-Null Count  Dtype  \n",
      "---  ------                   --------------  -----  \n",
      " 0   loan_amnt                36594 non-null  int64  \n",
      " 1   funded_amnt              36594 non-null  int64  \n",
      " 2   funded_amnt_inv          36594 non-null  float64\n",
      " 3   installment              36594 non-null  float64\n",
      " 4   grade                    36594 non-null  object \n",
      " 5   sub_grade                36594 non-null  object \n",
      " 6   home_ownership           36594 non-null  object \n",
      " 7   annual_inc               36594 non-null  float64\n",
      " 8   verification_status      36594 non-null  object \n",
      " 9   loan_status              36594 non-null  object \n",
      " 10  purpose                  36594 non-null  object \n",
      " 11  dti                      36594 non-null  float64\n",
      " 12  earliest_cr_line         36594 non-null  object \n",
      " 13  inq_last_6mths           36594 non-null  int64  \n",
      " 14  open_acc                 36594 non-null  int64  \n",
      " 15  pub_rec                  36594 non-null  int64  \n",
      " 16  total_acc                36594 non-null  int64  \n",
      " 17  pub_rec_bankruptcies     36594 non-null  float64\n",
      " 18  term_of_loan             36594 non-null  int64  \n",
      " 19  int_rate_percent         36594 non-null  float64\n",
      " 20  emp_duration             36594 non-null  object \n",
      " 21  issue_year               36594 non-null  object \n",
      " 22  issue_month              36594 non-null  object \n",
      " 23  revol_cred_util_percent  36594 non-null  float64\n",
      "dtypes: float64(7), int64(7), object(10)\n",
      "memory usage: 7.0+ MB\n"
     ]
    }
   ],
   "source": [
    "loanDataF3.info()"
   ]
  },
  {
   "cell_type": "markdown",
   "metadata": {},
   "source": [
    "#### Grade & Loan Status"
   ]
  },
  {
   "cell_type": "markdown",
   "metadata": {},
   "source": [
    "- We are interested in the loan status (Charged-Off & Fully Paid) and the relationship with other values.\n",
    "- Lets see the trend with Grade and loan status"
   ]
  },
  {
   "cell_type": "code",
   "execution_count": 101,
   "metadata": {},
   "outputs": [
    {
     "data": {
      "text/plain": [
       "loan_status\n",
       "Fully Paid     31194\n",
       "Charged Off     5400\n",
       "Name: count, dtype: int64"
      ]
     },
     "execution_count": 101,
     "metadata": {},
     "output_type": "execute_result"
    }
   ],
   "source": [
    "loanDataF3['loan_status'].value_counts()"
   ]
  },
  {
   "cell_type": "code",
   "execution_count": 103,
   "metadata": {},
   "outputs": [
    {
     "data": {
      "image/png": "[encoded data removed]",
      "text/plain": [
       "<Figure size 640x480 with 1 Axes>"
      ]
     },
     "metadata": {},
     "output_type": "display_data"
    }
   ],
   "source": [
    "loanDataF3[loanDataF3['loan_status'] == 'Charged Off']['grade'].value_counts().sort_values().plot.bar()\n",
    "plt.title('Bar Plot - Grades - Charged Off Loans\\n', fontdict={'fontsize':18})\n",
    "plt.show()"
   ]
  },
  {
   "cell_type": "markdown",
   "metadata": {},
   "source": [
    "- Majority of Grade B, C & D have not paid the loans."
   ]
  },
  {
   "cell_type": "markdown",
   "metadata": {},
   "source": [
    "- Lets analyse if the subgrade makes any difference."
   ]
  },
  {
   "cell_type": "markdown",
   "metadata": {},
   "source": [
    "#### Grade & SubGrade"
   ]
  },
  {
   "cell_type": "code",
   "execution_count": 104,
   "metadata": {},
   "outputs": [
    {
     "data": {
      "text/plain": [
       "sub_grade\n",
       "4    7677\n",
       "3    7542\n",
       "5    7430\n",
       "2    7254\n",
       "1    6691\n",
       "Name: count, dtype: int64"
      ]
     },
     "execution_count": 104,
     "metadata": {},
     "output_type": "execute_result"
    }
   ],
   "source": [
    "loanDataF3['sub_grade'] = loanDataF3['sub_grade'].apply(lambda x: int(x[-1]))\n",
    "loanDataF3['sub_grade'].value_counts()"
   ]
  },
  {
   "cell_type": "markdown",
   "metadata": {},
   "source": [
    "- Grade G have less applicants who have fully paid the loans"
   ]
  },
  {
   "cell_type": "code",
   "execution_count": 106,
   "metadata": {},
   "outputs": [
    {
     "data": {
      "image/png": "[encoded data removed]",
      "text/plain": [
       "<Figure size 640x480 with 1 Axes>"
      ]
     },
     "metadata": {},
     "output_type": "display_data"
    }
   ],
   "source": [
    "sns.countplot(\n",
    "    data=loanDataF3[loanDataF3.loan_status == 'Charged Off'], \n",
    "    x='grade', \n",
    "    hue='sub_grade', \n",
    "    order=['A', 'B', 'C', 'D', 'E', 'F', 'G'],\n",
    "    palette='bright'\n",
    "    )\n",
    "plt.title('Count Plot - Grades-Subgrades Against Charged Off Loans\\n')\n",
    "plt.show()"
   ]
  },
  {
   "cell_type": "markdown",
   "metadata": {},
   "source": [
    "- SubGrade B3, B4, B5 & C1, C2, C3 have more applicants who have not paid the loans\n"
   ]
  },
  {
   "cell_type": "markdown",
   "metadata": {},
   "source": [
    "#### Data Analysis - Home Ownership relation"
   ]
  },
  {
   "cell_type": "code",
   "execution_count": 107,
   "metadata": {},
   "outputs": [
    {
     "data": {
      "text/plain": [
       "home_ownership\n",
       "RENT        17998\n",
       "MORTGAGE    15656\n",
       "OWN          2847\n",
       "OTHER          90\n",
       "NONE            3\n",
       "Name: count, dtype: int64"
      ]
     },
     "execution_count": 107,
     "metadata": {},
     "output_type": "execute_result"
    }
   ],
   "source": [
    "loanDataF3['home_ownership'].value_counts()"
   ]
  },
  {
   "cell_type": "markdown",
   "metadata": {},
   "source": [
    "- We can club NONE with OTHER as the values are very less"
   ]
  },
  {
   "cell_type": "code",
   "execution_count": 108,
   "metadata": {},
   "outputs": [],
   "source": [
    "loanDataF3['home_ownership'] = loanDataF3['home_ownership'].replace('NONE', 'OTHER')"
   ]
  },
  {
   "cell_type": "code",
   "execution_count": 109,
   "metadata": {},
   "outputs": [
    {
     "data": {
      "text/plain": [
       "home_ownership\n",
       "RENT        17998\n",
       "MORTGAGE    15656\n",
       "OWN          2847\n",
       "OTHER          93\n",
       "Name: count, dtype: int64"
      ]
     },
     "execution_count": 109,
     "metadata": {},
     "output_type": "execute_result"
    }
   ],
   "source": [
    "loanDataF3['home_ownership'].value_counts()"
   ]
  },
  {
   "cell_type": "code",
   "execution_count": 120,
   "metadata": {},
   "outputs": [
    {
     "data": {
      "image/png": "[encoded data removed]",
      "text/plain": [
       "<Figure size 640x480 with 1 Axes>"
      ]
     },
     "metadata": {},
     "output_type": "display_data"
    }
   ],
   "source": [
    "loanDataF3[loanDataF3['loan_status'] == 'Charged Off']['home_ownership'].value_counts().plot.bar(color=['green', 'blue', 'yellow', 'red'])\n",
    "plt.xlabel('Home Ownership', fontdict={'fontsize':15})\n",
    "plt.title('Bar Plot - Home Ownership - Charged Off Loans\\n', fontdict={'fontsize':18})\n",
    "plt.show()"
   ]
  },
  {
   "cell_type": "markdown",
   "metadata": {},
   "source": [
    "- Clearly people who were on RENT or MORTGAGE have not paid the loans completely."
   ]
  },
  {
   "cell_type": "markdown",
   "metadata": {},
   "source": []
  },
  {
   "cell_type": "markdown",
   "metadata": {},
   "source": [
    "#### Data Analysis - Purpose"
   ]
  },
  {
   "cell_type": "code",
   "execution_count": 122,
   "metadata": {},
   "outputs": [
    {
     "data": {
      "image/png": "[encoded data removed]",
      "text/plain": [
       "<Figure size 640x480 with 1 Axes>"
      ]
     },
     "metadata": {},
     "output_type": "display_data"
    }
   ],
   "source": [
    "loanDataF3[loanDataF3['loan_status'] == 'Charged Off']['purpose'].value_counts().plot.bar(color=['green', 'blue', 'yellow', 'red'])\n",
    "plt.xlabel('Purpose', fontdict={\"fontsize\": 20})\n",
    "plt.yscale('log')\n",
    "plt.title('Bar Plot - Purpose - Charged Off Loans\\n', fontdict={'fontsize':18})\n",
    "plt.show()"
   ]
  },
  {
   "cell_type": "markdown",
   "metadata": {},
   "source": [
    "- These are the main purposes where the loan was taken but not paid back\n",
    "    - debt_consolidation\n",
    "    - other\n",
    "    - credit_card\n",
    "    - small_business\n",
    "    - home_improvement"
   ]
  },
  {
   "cell_type": "markdown",
   "metadata": {},
   "source": [
    "#### Data Analysis - Verification Status"
   ]
  },
  {
   "cell_type": "code",
   "execution_count": 124,
   "metadata": {},
   "outputs": [
    {
     "data": {
      "image/png": "[encoded data removed]",
      "text/plain": [
       "<Figure size 640x480 with 1 Axes>"
      ]
     },
     "metadata": {},
     "output_type": "display_data"
    }
   ],
   "source": [
    "loanDataF3[loanDataF3['loan_status'] == 'Charged Off']['verification_status'].value_counts().plot.bar(color=['green', 'blue', 'red'])\n",
    "plt.xlabel('Verification Status', fontdict={\"fontsize\": 15})\n",
    "plt.title('Bar Plot - Verification Status - Charged Off Loans\\n', fontdict={\"fontsize\": 18})\n",
    "plt.show()"
   ]
  },
  {
   "cell_type": "markdown",
   "metadata": {},
   "source": [
    "- Not Verified Loans have clearly not paid the loan back however, Verified is also very close. In any case, it is more likely that the applicant will be defaulted if the it is 'Not Verified' "
   ]
  },
  {
   "cell_type": "markdown",
   "metadata": {},
   "source": [
    "#### Data Analysis - emp_duration"
   ]
  },
  {
   "cell_type": "code",
   "execution_count": 154,
   "metadata": {},
   "outputs": [
    {
     "data": {
      "image/png": "[encoded data removed]",
      "text/plain": [
       "<Figure size 640x480 with 1 Axes>"
      ]
     },
     "metadata": {},
     "output_type": "display_data"
    }
   ],
   "source": [
    "sns.countplot(data=loanDataF3[loanDataF3['loan_status'] == 'Charged Off'], x='emp_duration')\n",
    "plt.xlabel('Employment Duration - In Years')\n",
    "plt.title('Count Plot - Employment Duration - LoanStatus\\n')\n",
    "plt.show()"
   ]
  },
  {
   "cell_type": "markdown",
   "metadata": {},
   "source": [
    "- If the Employment is 10+ years or if its less than or equal to 1 year, then the applicant is more likely to be a defaulter."
   ]
  },
  {
   "cell_type": "markdown",
   "metadata": {},
   "source": [
    "#### Data Analysis - Numerical Values"
   ]
  },
  {
   "cell_type": "code",
   "execution_count": 126,
   "metadata": {},
   "outputs": [
    {
     "data": {
      "text/html": [
       "<div>\n",
       "<style scoped>\n",
       "    .dataframe tbody tr th:only-of-type {\n",
       "        vertical-align: middle;\n",
       "    }\n",
       "\n",
       "    .dataframe tbody tr th {\n",
       "        vertical-align: top;\n",
       "    }\n",
       "\n",
       "    .dataframe thead th {\n",
       "        text-align: right;\n",
       "    }\n",
       "</style>\n",
       "<table border=\"1\" class=\"dataframe\">\n",
       "  <thead>\n",
       "    <tr style=\"text-align: right;\">\n",
       "      <th></th>\n",
       "      <th>loan_amnt</th>\n",
       "      <th>funded_amnt</th>\n",
       "      <th>funded_amnt_inv</th>\n",
       "      <th>installment</th>\n",
       "      <th>sub_grade</th>\n",
       "      <th>annual_inc</th>\n",
       "      <th>dti</th>\n",
       "      <th>inq_last_6mths</th>\n",
       "      <th>open_acc</th>\n",
       "      <th>pub_rec</th>\n",
       "      <th>total_acc</th>\n",
       "      <th>pub_rec_bankruptcies</th>\n",
       "      <th>term_of_loan</th>\n",
       "      <th>int_rate_percent</th>\n",
       "      <th>revol_cred_util_percent</th>\n",
       "    </tr>\n",
       "  </thead>\n",
       "  <tbody>\n",
       "    <tr>\n",
       "      <th>count</th>\n",
       "      <td>36594.000000</td>\n",
       "      <td>36594.000000</td>\n",
       "      <td>36594.000000</td>\n",
       "      <td>36594.000000</td>\n",
       "      <td>36594.000000</td>\n",
       "      <td>36594.000000</td>\n",
       "      <td>36594.000000</td>\n",
       "      <td>36594.000000</td>\n",
       "      <td>36594.000000</td>\n",
       "      <td>36594.000000</td>\n",
       "      <td>36594.000000</td>\n",
       "      <td>36594.000000</td>\n",
       "      <td>36594.000000</td>\n",
       "      <td>36594.000000</td>\n",
       "      <td>36594.000000</td>\n",
       "    </tr>\n",
       "    <tr>\n",
       "      <th>mean</th>\n",
       "      <td>10688.855413</td>\n",
       "      <td>10442.495354</td>\n",
       "      <td>9901.130052</td>\n",
       "      <td>312.063480</td>\n",
       "      <td>3.051948</td>\n",
       "      <td>60864.620755</td>\n",
       "      <td>13.450680</td>\n",
       "      <td>0.863939</td>\n",
       "      <td>9.172159</td>\n",
       "      <td>0.056867</td>\n",
       "      <td>21.651937</td>\n",
       "      <td>0.043942</td>\n",
       "      <td>41.853419</td>\n",
       "      <td>11.883018</td>\n",
       "      <td>48.661597</td>\n",
       "    </tr>\n",
       "    <tr>\n",
       "      <th>std</th>\n",
       "      <td>7047.618381</td>\n",
       "      <td>6799.692443</td>\n",
       "      <td>6729.994933</td>\n",
       "      <td>199.223297</td>\n",
       "      <td>1.396032</td>\n",
       "      <td>27708.861333</td>\n",
       "      <td>6.660079</td>\n",
       "      <td>1.064292</td>\n",
       "      <td>4.351603</td>\n",
       "      <td>0.240393</td>\n",
       "      <td>11.228236</td>\n",
       "      <td>0.205634</td>\n",
       "      <td>10.306427</td>\n",
       "      <td>3.665969</td>\n",
       "      <td>28.281775</td>\n",
       "    </tr>\n",
       "    <tr>\n",
       "      <th>min</th>\n",
       "      <td>500.000000</td>\n",
       "      <td>500.000000</td>\n",
       "      <td>0.000000</td>\n",
       "      <td>15.690000</td>\n",
       "      <td>1.000000</td>\n",
       "      <td>4000.000000</td>\n",
       "      <td>0.000000</td>\n",
       "      <td>0.000000</td>\n",
       "      <td>2.000000</td>\n",
       "      <td>0.000000</td>\n",
       "      <td>2.000000</td>\n",
       "      <td>0.000000</td>\n",
       "      <td>36.000000</td>\n",
       "      <td>5.420000</td>\n",
       "      <td>0.000000</td>\n",
       "    </tr>\n",
       "    <tr>\n",
       "      <th>25%</th>\n",
       "      <td>5000.000000</td>\n",
       "      <td>5000.000000</td>\n",
       "      <td>4987.920800</td>\n",
       "      <td>163.110000</td>\n",
       "      <td>2.000000</td>\n",
       "      <td>40000.000000</td>\n",
       "      <td>8.350000</td>\n",
       "      <td>0.000000</td>\n",
       "      <td>6.000000</td>\n",
       "      <td>0.000000</td>\n",
       "      <td>13.000000</td>\n",
       "      <td>0.000000</td>\n",
       "      <td>36.000000</td>\n",
       "      <td>8.940000</td>\n",
       "      <td>25.300000</td>\n",
       "    </tr>\n",
       "    <tr>\n",
       "      <th>50%</th>\n",
       "      <td>9250.000000</td>\n",
       "      <td>9000.000000</td>\n",
       "      <td>8394.564067</td>\n",
       "      <td>270.680000</td>\n",
       "      <td>3.000000</td>\n",
       "      <td>56000.000000</td>\n",
       "      <td>13.580000</td>\n",
       "      <td>1.000000</td>\n",
       "      <td>8.000000</td>\n",
       "      <td>0.000000</td>\n",
       "      <td>20.000000</td>\n",
       "      <td>0.000000</td>\n",
       "      <td>36.000000</td>\n",
       "      <td>11.710000</td>\n",
       "      <td>49.000000</td>\n",
       "    </tr>\n",
       "    <tr>\n",
       "      <th>75%</th>\n",
       "      <td>15000.000000</td>\n",
       "      <td>14400.000000</td>\n",
       "      <td>13648.623847</td>\n",
       "      <td>408.875000</td>\n",
       "      <td>4.000000</td>\n",
       "      <td>77970.500000</td>\n",
       "      <td>18.720000</td>\n",
       "      <td>1.000000</td>\n",
       "      <td>12.000000</td>\n",
       "      <td>0.000000</td>\n",
       "      <td>28.000000</td>\n",
       "      <td>0.000000</td>\n",
       "      <td>36.000000</td>\n",
       "      <td>14.270000</td>\n",
       "      <td>72.100000</td>\n",
       "    </tr>\n",
       "    <tr>\n",
       "      <th>max</th>\n",
       "      <td>35000.000000</td>\n",
       "      <td>35000.000000</td>\n",
       "      <td>35000.000000</td>\n",
       "      <td>1305.190000</td>\n",
       "      <td>5.000000</td>\n",
       "      <td>140000.000000</td>\n",
       "      <td>29.990000</td>\n",
       "      <td>8.000000</td>\n",
       "      <td>44.000000</td>\n",
       "      <td>4.000000</td>\n",
       "      <td>90.000000</td>\n",
       "      <td>2.000000</td>\n",
       "      <td>60.000000</td>\n",
       "      <td>24.400000</td>\n",
       "      <td>99.900000</td>\n",
       "    </tr>\n",
       "  </tbody>\n",
       "</table>\n",
       "</div>"
      ],
      "text/plain": [
       "          loan_amnt   funded_amnt  funded_amnt_inv   installment  \\\n",
       "count  36594.000000  36594.000000     36594.000000  36594.000000   \n",
       "mean   10688.855413  10442.495354      9901.130052    312.063480   \n",
       "std     7047.618381   6799.692443      6729.994933    199.223297   \n",
       "min      500.000000    500.000000         0.000000     15.690000   \n",
       "25%     5000.000000   5000.000000      4987.920800    163.110000   \n",
       "50%     9250.000000   9000.000000      8394.564067    270.680000   \n",
       "75%    15000.000000  14400.000000     13648.623847    408.875000   \n",
       "max    35000.000000  35000.000000     35000.000000   1305.190000   \n",
       "\n",
       "          sub_grade     annual_inc           dti  inq_last_6mths  \\\n",
       "count  36594.000000   36594.000000  36594.000000    36594.000000   \n",
       "mean       3.051948   60864.620755     13.450680        0.863939   \n",
       "std        1.396032   27708.861333      6.660079        1.064292   \n",
       "min        1.000000    4000.000000      0.000000        0.000000   \n",
       "25%        2.000000   40000.000000      8.350000        0.000000   \n",
       "50%        3.000000   56000.000000     13.580000        1.000000   \n",
       "75%        4.000000   77970.500000     18.720000        1.000000   \n",
       "max        5.000000  140000.000000     29.990000        8.000000   \n",
       "\n",
       "           open_acc       pub_rec     total_acc  pub_rec_bankruptcies  \\\n",
       "count  36594.000000  36594.000000  36594.000000          36594.000000   \n",
       "mean       9.172159      0.056867     21.651937              0.043942   \n",
       "std        4.351603      0.240393     11.228236              0.205634   \n",
       "min        2.000000      0.000000      2.000000              0.000000   \n",
       "25%        6.000000      0.000000     13.000000              0.000000   \n",
       "50%        8.000000      0.000000     20.000000              0.000000   \n",
       "75%       12.000000      0.000000     28.000000              0.000000   \n",
       "max       44.000000      4.000000     90.000000              2.000000   \n",
       "\n",
       "       term_of_loan  int_rate_percent  revol_cred_util_percent  \n",
       "count  36594.000000      36594.000000             36594.000000  \n",
       "mean      41.853419         11.883018                48.661597  \n",
       "std       10.306427          3.665969                28.281775  \n",
       "min       36.000000          5.420000                 0.000000  \n",
       "25%       36.000000          8.940000                25.300000  \n",
       "50%       36.000000         11.710000                49.000000  \n",
       "75%       36.000000         14.270000                72.100000  \n",
       "max       60.000000         24.400000                99.900000  "
      ]
     },
     "execution_count": 126,
     "metadata": {},
     "output_type": "execute_result"
    }
   ],
   "source": [
    "loanDataF3.describe()"
   ]
  },
  {
   "cell_type": "markdown",
   "metadata": {},
   "source": [
    "##### Installment"
   ]
  },
  {
   "cell_type": "code",
   "execution_count": 128,
   "metadata": {},
   "outputs": [
    {
     "data": {
      "text/plain": [
       "count    36594.000000\n",
       "mean       312.063480\n",
       "std        199.223297\n",
       "min         15.690000\n",
       "25%        163.110000\n",
       "50%        270.680000\n",
       "75%        408.875000\n",
       "max       1305.190000\n",
       "Name: installment, dtype: float64"
      ]
     },
     "execution_count": 128,
     "metadata": {},
     "output_type": "execute_result"
    }
   ],
   "source": [
    "loanDataF3['installment'].describe()"
   ]
  },
  {
   "cell_type": "code",
   "execution_count": 138,
   "metadata": {},
   "outputs": [
    {
     "data": {
      "text/plain": [
       "0        (145.0, 274.0]\n",
       "1         (14.0, 145.0]\n",
       "3        (274.0, 403.0]\n",
       "11       (403.0, 531.0]\n",
       "21       (660.0, 789.0]\n",
       "31      (918.0, 1047.0]\n",
       "51       (789.0, 918.0]\n",
       "55       (531.0, 660.0]\n",
       "128    (1047.0, 1176.0]\n",
       "756    (1176.0, 1305.0]\n",
       "Name: installment, dtype: category\n",
       "Categories (10, interval[float64, right]): [(14.0, 145.0] < (145.0, 274.0] < (274.0, 403.0] < (403.0, 531.0] ... (789.0, 918.0] < (918.0, 1047.0] < (1047.0, 1176.0] < (1176.0, 1305.0]]"
      ]
     },
     "execution_count": 138,
     "metadata": {},
     "output_type": "execute_result"
    }
   ],
   "source": [
    "installment_bins = pd.cut(loanDataF3['installment'], bins=10, precision=0)\n",
    "installment_bins.drop_duplicates()"
   ]
  },
  {
   "cell_type": "code",
   "execution_count": 155,
   "metadata": {},
   "outputs": [
    {
     "data": {
      "image/png": "[encoded data removed]",
      "text/plain": [
       "<Figure size 1200x800 with 1 Axes>"
      ]
     },
     "metadata": {},
     "output_type": "display_data"
    }
   ],
   "source": [
    "loanDataF3['installment_groups'] = pd.cut(loanDataF3['installment'], bins=10, labels=['14-145', '145-274', '274-403', '403-531', '531-660', '660-789', '789-918', '918-1047', '1047-1176', '1176-1305'])\n",
    "plt.figure(figsize=(12, 8))\n",
    "sns.countplot(data=loanDataF3[loanDataF3['loan_status'] == 'Charged Off'], x='installment_groups')\n",
    "plt.xlabel('Installment Amount')\n",
    "plt.title('CountPlot - Installment Against Charged Off Loans\\n')\n",
    "plt.show()"
   ]
  },
  {
   "cell_type": "markdown",
   "metadata": {},
   "source": [
    "- If the Installment Amount is between 145-274, then it is more likely to be defaulted."
   ]
  },
  {
   "cell_type": "markdown",
   "metadata": {},
   "source": [
    "##### Debt-To-Income Ratio"
   ]
  },
  {
   "cell_type": "code",
   "execution_count": 156,
   "metadata": {},
   "outputs": [
    {
     "data": {
      "text/plain": [
       "count    36594.000000\n",
       "mean        13.450680\n",
       "std          6.660079\n",
       "min          0.000000\n",
       "25%          8.350000\n",
       "50%         13.580000\n",
       "75%         18.720000\n",
       "max         29.990000\n",
       "Name: dti, dtype: float64"
      ]
     },
     "execution_count": 156,
     "metadata": {},
     "output_type": "execute_result"
    }
   ],
   "source": [
    "loanDataF3['dti'].describe()"
   ]
  },
  {
   "cell_type": "code",
   "execution_count": 157,
   "metadata": {},
   "outputs": [
    {
     "data": {
      "text/plain": [
       "dti\n",
       "0.00     163\n",
       "18.00     44\n",
       "12.00     42\n",
       "19.20     39\n",
       "13.20     38\n",
       "        ... \n",
       "28.41      1\n",
       "26.46      1\n",
       "27.69      1\n",
       "26.61      1\n",
       "25.43      1\n",
       "Name: count, Length: 2848, dtype: int64"
      ]
     },
     "execution_count": 157,
     "metadata": {},
     "output_type": "execute_result"
    }
   ],
   "source": [
    "loanDataF3['dti'].value_counts()"
   ]
  },
  {
   "cell_type": "code",
   "execution_count": 161,
   "metadata": {},
   "outputs": [
    {
     "data": {
      "text/plain": [
       "0     (24.0, 30.0]\n",
       "1      (-0.0, 6.0]\n",
       "2      (6.0, 12.0]\n",
       "3     (18.0, 24.0]\n",
       "10    (12.0, 18.0]\n",
       "Name: dti, dtype: category\n",
       "Categories (5, interval[float64, right]): [(-0.0, 6.0] < (6.0, 12.0] < (12.0, 18.0] < (18.0, 24.0] < (24.0, 30.0]]"
      ]
     },
     "execution_count": 161,
     "metadata": {},
     "output_type": "execute_result"
    }
   ],
   "source": [
    "dti_bins = pd.cut(loanDataF3['dti'], bins=5, precision=0)\n",
    "dti_bins.drop_duplicates()"
   ]
  },
  {
   "cell_type": "code",
   "execution_count": 175,
   "metadata": {},
   "outputs": [
    {
     "data": {
      "image/png": "[encoded data removed]",
      "text/plain": [
       "<Figure size 1000x700 with 1 Axes>"
      ]
     },
     "metadata": {},
     "output_type": "display_data"
    }
   ],
   "source": [
    "loanDataF3['dti_groups'] = pd.cut(loanDataF3['dti'], bins=5, precision=0, labels=['0-6', '6-12', '12-18', '18-24', '24-30'])\n",
    "plt.figure(figsize=(10, 7))\n",
    "sns.countplot(data=loanDataF3[loanDataF3['loan_status'] == 'Charged Off'], x='dti_groups')\n",
    "plt.xlabel('Debt-To-Income Ratio', fontdict={'fontsize':15})\n",
    "plt.title('CountPlot - Debt-To-Income Ratio Against Charged Off Loans\\n', fontdict={'fontsize':18})\n",
    "plt.show()"
   ]
  },
  {
   "cell_type": "markdown",
   "metadata": {},
   "source": [
    "- If the Debt-To-Income Ratio is between 12 & 18, the applicant is more likely to be a defaulter"
   ]
  },
  {
   "cell_type": "markdown",
   "metadata": {},
   "source": [
    "##### Inqueries in Last 6 months - inq_last_6mths"
   ]
  },
  {
   "cell_type": "code",
   "execution_count": 176,
   "metadata": {},
   "outputs": [
    {
     "data": {
      "text/plain": [
       "count    36594.000000\n",
       "mean         0.863939\n",
       "std          1.064292\n",
       "min          0.000000\n",
       "25%          0.000000\n",
       "50%          1.000000\n",
       "75%          1.000000\n",
       "max          8.000000\n",
       "Name: inq_last_6mths, dtype: float64"
      ]
     },
     "execution_count": 176,
     "metadata": {},
     "output_type": "execute_result"
    }
   ],
   "source": [
    "loanDataF3['inq_last_6mths'].describe()"
   ]
  },
  {
   "cell_type": "code",
   "execution_count": 177,
   "metadata": {},
   "outputs": [
    {
     "data": {
      "text/plain": [
       "inq_last_6mths\n",
       "0    17836\n",
       "1    10119\n",
       "2     5326\n",
       "3     2790\n",
       "4      291\n",
       "5      134\n",
       "6       56\n",
       "7       32\n",
       "8       10\n",
       "Name: count, dtype: int64"
      ]
     },
     "execution_count": 177,
     "metadata": {},
     "output_type": "execute_result"
    }
   ],
   "source": [
    "loanDataF3['inq_last_6mths'].value_counts()"
   ]
  },
  {
   "cell_type": "code",
   "execution_count": 179,
   "metadata": {},
   "outputs": [
    {
     "data": {
      "image/png": "[encoded data removed]",
      "text/plain": [
       "<Figure size 640x480 with 1 Axes>"
      ]
     },
     "metadata": {},
     "output_type": "display_data"
    }
   ],
   "source": [
    "loanDataF3['inq_last_6mths'].value_counts().plot.bar()\n",
    "plt.xlabel('Inquiries - Last 6 Months')\n",
    "plt.title('Bar Plot - Inquiries In Last 6 Months - Charged Off Loans\\n', fontdict={'fontsize':18})\n",
    "plt.show()"
   ]
  },
  {
   "cell_type": "markdown",
   "metadata": {},
   "source": [
    "- If there are no Inquiries made in last 6 months, the applicant is more likely to be defaulter."
   ]
  },
  {
   "cell_type": "markdown",
   "metadata": {},
   "source": [
    "##### Open Credit Lines - open_acc"
   ]
  },
  {
   "cell_type": "code",
   "execution_count": 180,
   "metadata": {},
   "outputs": [
    {
     "data": {
      "text/plain": [
       "count    36594.000000\n",
       "mean         9.172159\n",
       "std          4.351603\n",
       "min          2.000000\n",
       "25%          6.000000\n",
       "50%          8.000000\n",
       "75%         12.000000\n",
       "max         44.000000\n",
       "Name: open_acc, dtype: float64"
      ]
     },
     "execution_count": 180,
     "metadata": {},
     "output_type": "execute_result"
    }
   ],
   "source": [
    "loanDataF3['open_acc'].describe()"
   ]
  },
  {
   "cell_type": "code",
   "execution_count": 181,
   "metadata": {},
   "outputs": [
    {
     "data": {
      "text/plain": [
       "open_acc\n",
       "7     3773\n",
       "6     3708\n",
       "8     3662\n",
       "9     3444\n",
       "5     3023\n",
       "10    2928\n",
       "11    2487\n",
       "4     2249\n",
       "12    2045\n",
       "13    1720\n",
       "3     1430\n",
       "14    1326\n",
       "15    1050\n",
       "16     817\n",
       "17     643\n",
       "2      575\n",
       "18     466\n",
       "19     342\n",
       "20     249\n",
       "21     216\n",
       "22     129\n",
       "23      81\n",
       "24      64\n",
       "25      52\n",
       "26      27\n",
       "28      21\n",
       "27      21\n",
       "30      11\n",
       "29       8\n",
       "31       6\n",
       "34       5\n",
       "32       3\n",
       "33       3\n",
       "35       3\n",
       "36       2\n",
       "39       1\n",
       "38       1\n",
       "44       1\n",
       "41       1\n",
       "42       1\n",
       "Name: count, dtype: int64"
      ]
     },
     "execution_count": 181,
     "metadata": {},
     "output_type": "execute_result"
    }
   ],
   "source": [
    "loanDataF3['open_acc'].value_counts()"
   ]
  },
  {
   "cell_type": "code",
   "execution_count": 189,
   "metadata": {},
   "outputs": [
    {
     "data": {
      "text/plain": [
       "open_acc\n",
       "(2.0, 10.0]     24792\n",
       "(10.0, 19.0]    10554\n",
       "(19.0, 27.0]     1181\n",
       "(27.0, 36.0]       60\n",
       "(36.0, 44.0]        7\n",
       "Name: count, dtype: int64"
      ]
     },
     "execution_count": 189,
     "metadata": {},
     "output_type": "execute_result"
    }
   ],
   "source": [
    "open_acc_bins = pd.cut(loanDataF3['open_acc'], bins=5, precision=0)\n",
    "open_acc_bins.value_counts()"
   ]
  },
  {
   "cell_type": "code",
   "execution_count": 190,
   "metadata": {},
   "outputs": [
    {
     "data": {
      "image/png": "[encoded data removed]",
      "text/plain": [
       "<Figure size 640x480 with 1 Axes>"
      ]
     },
     "metadata": {},
     "output_type": "display_data"
    }
   ],
   "source": [
    "loanDataF3['open_acc_groups'] = pd.cut(loanDataF3['open_acc'], bins=5, precision=0, labels=['2-10', '10-19', '19-27', '27-36', '36-44'])\n",
    "sns.countplot(data=loanDataF3[loanDataF3['loan_status'] == 'Charged Off'], x='open_acc_groups')\n",
    "plt.xlabel('Open Credit Lines')\n",
    "plt.title('CountPlot - Open Credit Lines - Charged Off Loans\\n')\n",
    "plt.show()"
   ]
  },
  {
   "cell_type": "markdown",
   "metadata": {},
   "source": [
    "- Applicants with Open Credit Lines between 2 & 10 are more likely to be defaulters."
   ]
  },
  {
   "cell_type": "markdown",
   "metadata": {},
   "source": [
    "##### Derogatory Public Records - pub_rec"
   ]
  },
  {
   "cell_type": "code",
   "execution_count": 191,
   "metadata": {},
   "outputs": [
    {
     "data": {
      "text/plain": [
       "count    36594.000000\n",
       "mean         0.056867\n",
       "std          0.240393\n",
       "min          0.000000\n",
       "25%          0.000000\n",
       "50%          0.000000\n",
       "75%          0.000000\n",
       "max          4.000000\n",
       "Name: pub_rec, dtype: float64"
      ]
     },
     "execution_count": 191,
     "metadata": {},
     "output_type": "execute_result"
    }
   ],
   "source": [
    "loanDataF3['pub_rec'].describe()"
   ]
  },
  {
   "cell_type": "code",
   "execution_count": 192,
   "metadata": {},
   "outputs": [
    {
     "data": {
      "text/plain": [
       "pub_rec\n",
       "0    34577\n",
       "1     1963\n",
       "2       46\n",
       "3        6\n",
       "4        2\n",
       "Name: count, dtype: int64"
      ]
     },
     "execution_count": 192,
     "metadata": {},
     "output_type": "execute_result"
    }
   ],
   "source": [
    "loanDataF3['pub_rec'].value_counts()"
   ]
  },
  {
   "cell_type": "code",
   "execution_count": 193,
   "metadata": {},
   "outputs": [
    {
     "data": {
      "image/png": "[encoded data removed]",
      "text/plain": [
       "<Figure size 640x480 with 1 Axes>"
      ]
     },
     "metadata": {},
     "output_type": "display_data"
    }
   ],
   "source": [
    "loanDataF3[loanDataF3['loan_status'] == 'Charged Off']['pub_rec'].value_counts().plot.bar()\n",
    "plt.title('Bar Plot - Derogatory Public Records - Charged Off Loans\\n', fontdict={'fontsize':18})\n",
    "plt.show()"
   ]
  },
  {
   "cell_type": "markdown",
   "metadata": {},
   "source": [
    "- Even though the data shows that applicants with Zero Public Records are more defaulters, it wouldn't be right to conclude on this basis. Hence, we won't be considering this attribute for decision making"
   ]
  },
  {
   "cell_type": "markdown",
   "metadata": {},
   "source": []
  },
  {
   "cell_type": "markdown",
   "metadata": {},
   "source": [
    "##### Total Credit Lines - total_acc"
   ]
  },
  {
   "cell_type": "code",
   "execution_count": 194,
   "metadata": {},
   "outputs": [
    {
     "data": {
      "text/plain": [
       "count    36594.000000\n",
       "mean        21.651937\n",
       "std         11.228236\n",
       "min          2.000000\n",
       "25%         13.000000\n",
       "50%         20.000000\n",
       "75%         28.000000\n",
       "max         90.000000\n",
       "Name: total_acc, dtype: float64"
      ]
     },
     "execution_count": 194,
     "metadata": {},
     "output_type": "execute_result"
    }
   ],
   "source": [
    "loanDataF3['total_acc'].describe()"
   ]
  },
  {
   "cell_type": "code",
   "execution_count": 203,
   "metadata": {},
   "outputs": [
    {
     "data": {
      "text/plain": [
       "total_acc\n",
       "(2.0, 16.0]     2176\n",
       "(16.0, 31.0]    2166\n",
       "(31.0, 45.0]     894\n",
       "(45.0, 60.0]     133\n",
       "(60.0, 74.0]      31\n",
       "Name: count, dtype: int64"
      ]
     },
     "execution_count": 203,
     "metadata": {},
     "output_type": "execute_result"
    }
   ],
   "source": [
    "total_acc_bins = pd.cut(loanDataF3[loanDataF3['loan_status'] == 'Charged Off']['total_acc'], bins=5, precision=0)\n",
    "total_acc_bins.value_counts()"
   ]
  },
  {
   "cell_type": "code",
   "execution_count": 204,
   "metadata": {},
   "outputs": [
    {
     "data": {
      "image/png": "[encoded data removed]",
      "text/plain": [
       "<Figure size 640x480 with 1 Axes>"
      ]
     },
     "metadata": {},
     "output_type": "display_data"
    }
   ],
   "source": [
    "loanDataF3['total_acc_groups'] = pd.cut(loanDataF3['total_acc'], bins=5, precision=0, labels=['2-16', '16-31', '31-45', '45-60', '60-74'])\n",
    "sns.countplot(data=loanDataF3[loanDataF3['loan_status'] == 'Charged Off'], x='total_acc_groups')\n",
    "plt.xlabel('Total Credit Lines')\n",
    "plt.title('CountPlot - Total Credit Lines - Charged Off Loans\\n')\n",
    "plt.show()"
   ]
  },
  {
   "cell_type": "markdown",
   "metadata": {},
   "source": [
    "- If the Total Number of Credit Lines are between 2 to 16, the applicant is most likely to be a defaulter"
   ]
  },
  {
   "cell_type": "markdown",
   "metadata": {},
   "source": [
    "##### Bankruptcies - pub_rec_bankruptcies"
   ]
  },
  {
   "cell_type": "code",
   "execution_count": 205,
   "metadata": {},
   "outputs": [
    {
     "data": {
      "text/plain": [
       "count    36594.000000\n",
       "mean         0.043942\n",
       "std          0.205634\n",
       "min          0.000000\n",
       "25%          0.000000\n",
       "50%          0.000000\n",
       "75%          0.000000\n",
       "max          2.000000\n",
       "Name: pub_rec_bankruptcies, dtype: float64"
      ]
     },
     "execution_count": 205,
     "metadata": {},
     "output_type": "execute_result"
    }
   ],
   "source": [
    "loanDataF3['pub_rec_bankruptcies'].describe()"
   ]
  },
  {
   "cell_type": "code",
   "execution_count": 206,
   "metadata": {},
   "outputs": [
    {
     "data": {
      "text/plain": [
       "pub_rec_bankruptcies\n",
       "0.0    34991\n",
       "1.0     1598\n",
       "2.0        5\n",
       "Name: count, dtype: int64"
      ]
     },
     "execution_count": 206,
     "metadata": {},
     "output_type": "execute_result"
    }
   ],
   "source": [
    "loanDataF3['pub_rec_bankruptcies'].value_counts()"
   ]
  },
  {
   "cell_type": "code",
   "execution_count": 209,
   "metadata": {},
   "outputs": [
    {
     "data": {
      "image/png": "[encoded data removed]",
      "text/plain": [
       "<Figure size 640x480 with 1 Axes>"
      ]
     },
     "metadata": {},
     "output_type": "display_data"
    }
   ],
   "source": [
    "loanDataF3[loanDataF3['loan_status'] == 'Charged Off']['pub_rec_bankruptcies'].value_counts().plot.bar()\n",
    "plt.title('Bar Plot - Public Record Bankruptcies - Charged Off Loans\\n')\n",
    "plt.show()"
   ]
  },
  {
   "cell_type": "markdown",
   "metadata": {},
   "source": [
    "- Even though the data indicates applicants with no Bankruptcies are more likely to be a defaulter, it wouldn't be right to conclude on this. Hence, we will not be considering Bankruptcy as a factor for our analysis"
   ]
  },
  {
   "cell_type": "markdown",
   "metadata": {},
   "source": [
    "##### Term Of Loan"
   ]
  },
  {
   "cell_type": "code",
   "execution_count": 215,
   "metadata": {},
   "outputs": [
    {
     "data": {
      "text/plain": [
       "count    36594.000000\n",
       "mean        41.853419\n",
       "std         10.306427\n",
       "min         36.000000\n",
       "25%         36.000000\n",
       "50%         36.000000\n",
       "75%         36.000000\n",
       "max         60.000000\n",
       "Name: term_of_loan, dtype: float64"
      ]
     },
     "execution_count": 215,
     "metadata": {},
     "output_type": "execute_result"
    }
   ],
   "source": [
    "loanDataF3['term_of_loan'].describe()"
   ]
  },
  {
   "cell_type": "code",
   "execution_count": 216,
   "metadata": {},
   "outputs": [
    {
     "data": {
      "text/plain": [
       "term_of_loan\n",
       "36    27669\n",
       "60     8925\n",
       "Name: count, dtype: int64"
      ]
     },
     "execution_count": 216,
     "metadata": {},
     "output_type": "execute_result"
    }
   ],
   "source": [
    "loanDataF3['term_of_loan'].value_counts()"
   ]
  },
  {
   "cell_type": "code",
   "execution_count": 217,
   "metadata": {},
   "outputs": [
    {
     "data": {
      "image/png": "[encoded data removed]",
      "text/plain": [
       "<Figure size 640x480 with 1 Axes>"
      ]
     },
     "metadata": {},
     "output_type": "display_data"
    }
   ],
   "source": [
    "sns.countplot(data=loanDataF3, x='term_of_loan', hue='loan_status')\n",
    "plt.title('Count Plot - Term Of Loan & Loan Status\\n')\n",
    "plt.show()"
   ]
  },
  {
   "cell_type": "code",
   "execution_count": 218,
   "metadata": {},
   "outputs": [
    {
     "data": {
      "image/png": "[encoded data removed]",
      "text/plain": [
       "<Figure size 640x480 with 1 Axes>"
      ]
     },
     "metadata": {},
     "output_type": "display_data"
    }
   ],
   "source": [
    "sns.countplot(data=loanDataF3[loanDataF3['loan_status'] == 'Charged Off'] , x='term_of_loan')\n",
    "plt.title('Count Plot - Term Of Loan (In Months) - Charged Off Loans\\n')\n",
    "plt.show()"
   ]
  },
  {
   "cell_type": "markdown",
   "metadata": {},
   "source": [
    "- If the Term of Loan is 36 Months, it is more likely to be Defaulted"
   ]
  },
  {
   "cell_type": "markdown",
   "metadata": {},
   "source": [
    "##### Interest Rate Percentage - int_rate_percent "
   ]
  },
  {
   "cell_type": "code",
   "execution_count": 219,
   "metadata": {},
   "outputs": [
    {
     "data": {
      "text/plain": [
       "count    36594.000000\n",
       "mean        11.883018\n",
       "std          3.665969\n",
       "min          5.420000\n",
       "25%          8.940000\n",
       "50%         11.710000\n",
       "75%         14.270000\n",
       "max         24.400000\n",
       "Name: int_rate_percent, dtype: float64"
      ]
     },
     "execution_count": 219,
     "metadata": {},
     "output_type": "execute_result"
    }
   ],
   "source": [
    "loanDataF3['int_rate_percent'].describe()"
   ]
  },
  {
   "cell_type": "code",
   "execution_count": 220,
   "metadata": {},
   "outputs": [
    {
     "data": {
      "text/plain": [
       "int_rate_percent\n",
       "10.99    863\n",
       "7.51     768\n",
       "11.49    755\n",
       "13.49    722\n",
       "7.88     702\n",
       "        ... \n",
       "10.64      1\n",
       "18.36      1\n",
       "22.94      1\n",
       "22.64      1\n",
       "15.01      1\n",
       "Name: count, Length: 370, dtype: int64"
      ]
     },
     "execution_count": 220,
     "metadata": {},
     "output_type": "execute_result"
    }
   ],
   "source": [
    "loanDataF3['int_rate_percent'].value_counts()"
   ]
  },
  {
   "cell_type": "code",
   "execution_count": 224,
   "metadata": {},
   "outputs": [
    {
     "data": {
      "text/plain": [
       "int_rate_percent\n",
       "(9.0, 13.0]     13460\n",
       "(13.0, 17.0]    10152\n",
       "(5.0, 9.0]       9444\n",
       "(17.0, 21.0]     3082\n",
       "(21.0, 24.0]      456\n",
       "Name: count, dtype: int64"
      ]
     },
     "execution_count": 224,
     "metadata": {},
     "output_type": "execute_result"
    }
   ],
   "source": [
    "int_rate_perc_bins = pd.cut(loanDataF3['int_rate_percent'], bins=5, precision=0)\n",
    "int_rate_perc_bins.value_counts()"
   ]
  },
  {
   "cell_type": "code",
   "execution_count": 225,
   "metadata": {},
   "outputs": [
    {
     "data": {
      "image/png": "[encoded data removed]",
      "text/plain": [
       "<Figure size 640x480 with 1 Axes>"
      ]
     },
     "metadata": {},
     "output_type": "display_data"
    }
   ],
   "source": [
    "loanDataF3['int_rate_groups'] = pd.cut(loanDataF3['int_rate_percent'], bins=5, precision=0, labels=['5-9', '9-13', '13-17', '17-21', '21-24'])\n",
    "sns.countplot(data=loanDataF3[loanDataF3['loan_status'] == 'Charged Off'], x='int_rate_groups')\n",
    "plt.xlabel('Interest Rate Percentage')\n",
    "plt.title('CountPlot - Interest Rate Percentage - Charged Off Loans\\n')\n",
    "plt.show()"
   ]
  },
  {
   "cell_type": "markdown",
   "metadata": {},
   "source": [
    "- If the Interest Rate Percentage is between 13 & 17, it is more likely to be defaulted."
   ]
  },
  {
   "cell_type": "markdown",
   "metadata": {},
   "source": [
    "##### Revolving Credit Utilization Precentage - revol_cred_util_percent"
   ]
  },
  {
   "cell_type": "code",
   "execution_count": 226,
   "metadata": {},
   "outputs": [
    {
     "data": {
      "text/plain": [
       "count    36594.000000\n",
       "mean        48.661597\n",
       "std         28.281775\n",
       "min          0.000000\n",
       "25%         25.300000\n",
       "50%         49.000000\n",
       "75%         72.100000\n",
       "max         99.900000\n",
       "Name: revol_cred_util_percent, dtype: float64"
      ]
     },
     "execution_count": 226,
     "metadata": {},
     "output_type": "execute_result"
    }
   ],
   "source": [
    "loanDataF3['revol_cred_util_percent'].describe()"
   ]
  },
  {
   "cell_type": "code",
   "execution_count": 227,
   "metadata": {},
   "outputs": [
    {
     "data": {
      "text/plain": [
       "revol_cred_util_percent\n",
       "0.00     885\n",
       "63.00     61\n",
       "0.20      60\n",
       "66.70     56\n",
       "40.70     55\n",
       "        ... \n",
       "77.63      1\n",
       "25.74      1\n",
       "0.83       1\n",
       "47.36      1\n",
       "7.28       1\n",
       "Name: count, Length: 1082, dtype: int64"
      ]
     },
     "execution_count": 227,
     "metadata": {},
     "output_type": "execute_result"
    }
   ],
   "source": [
    "loanDataF3['revol_cred_util_percent'].value_counts()"
   ]
  },
  {
   "cell_type": "code",
   "execution_count": 228,
   "metadata": {},
   "outputs": [
    {
     "data": {
      "text/plain": [
       "revol_cred_util_percent\n",
       "(-0.1, 10.0]     4140\n",
       "(40.0, 50.0]     4012\n",
       "(50.0, 60.0]     4006\n",
       "(60.0, 70.0]     3903\n",
       "(30.0, 40.0]     3835\n",
       "(70.0, 80.0]     3688\n",
       "(20.0, 30.0]     3563\n",
       "(80.0, 90.0]     3387\n",
       "(10.0, 20.0]     3144\n",
       "(90.0, 100.0]    2916\n",
       "Name: count, dtype: int64"
      ]
     },
     "execution_count": 228,
     "metadata": {},
     "output_type": "execute_result"
    }
   ],
   "source": [
    "revol_credit_bins = pd.cut(loanDataF3['revol_cred_util_percent'], bins=10, precision=0)\n",
    "revol_credit_bins.value_counts()"
   ]
  },
  {
   "cell_type": "markdown",
   "metadata": {},
   "source": [
    "- Looks like the data is evenly distributed. We won't be able to come to any conclusion on this attribute"
   ]
  },
  {
   "cell_type": "markdown",
   "metadata": {},
   "source": [
    "#### Univariate Data Analysis - Conclusion\n",
    "- Applicant is more likely to be a defaulter: \n",
    "    - If the Applicant belongs to Grade B or C\n",
    "    - If the Applicant belongs to SubGrade B3, B4, B5 & C1, C2\n",
    "    - If the Applicant is living on Rental property\n",
    "    - If the Applicant gets another loan to pay off existing loans (Debt Consolidation)\n",
    "    - If the Employment Duration is 10+ years\n",
    "    - If the Installment Amount is between 145-274\n",
    "    - If the Debt-To-Income Ratio is between 12 & 18\n",
    "    - If there are no Inquiries made in last 6 months\n",
    "    - If the Open Credit Lines are between 2 & 10\n",
    "    - If the Total Number of Credit Lines are between 2 to 16\n",
    "    - If the Term of Loan is 36 Months\n",
    "    - If the Interest Rate Percentage is between 13 & 17"
   ]
  },
  {
   "cell_type": "markdown",
   "metadata": {},
   "source": []
  }
 ],
 "metadata": {
  "kernelspec": {
   "display_name": "base",
   "language": "python",
   "name": "python3"
  },
  "language_info": {
   "codemirror_mode": {
    "name": "ipython",
    "version": 3
   },
   "file_extension": ".py",
   "mimetype": "text/x-python",
   "name": "python",
   "nbconvert_exporter": "python",
   "pygments_lexer": "ipython3",
   "version": "3.12.4"
  }
 },
 "nbformat": 4,
 "nbformat_minor": 2
}
